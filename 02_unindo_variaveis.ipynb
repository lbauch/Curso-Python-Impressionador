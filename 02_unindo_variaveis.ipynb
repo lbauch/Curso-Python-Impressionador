{
 "cells": [
  {
   "cell_type": "code",
   "execution_count": null,
   "metadata": {},
   "outputs": [],
   "source": [
    "faturamento = 1000\n",
    "custo = 500\n",
    "lucro = faturamento - custo\n",
    "type(faturamento)\n",
    "\n",
    "print(f'o faturamento da loja foi: {faturamento}')\n",
    "print(f'o faturamento da loja foi: ' + str(faturamento))\n",
    "print('o faturamento: {}, custo: {}, lucro: {}'.format(faturamento, custo, lucro))\n",
    "print(f'o lucro da loja foi: {faturamento-custo}')\n",
    "\n",
    "# Necessário transformar para números, pois input sempre será string\n",
    "novo_faturamento = int(input('Insira o faturamento'))\n",
    "novo_custo = int(input('Insira o novo custo'))\n"
   ]
  }
 ],
 "metadata": {
  "kernelspec": {
   "display_name": "Python 3",
   "language": "python",
   "name": "python3"
  },
  "language_info": {
   "codemirror_mode": {
    "name": "ipython",
    "version": 3
   },
   "file_extension": ".py",
   "mimetype": "text/x-python",
   "name": "python",
   "nbconvert_exporter": "python",
   "pygments_lexer": "ipython3",
   "version": "3.13.0"
  }
 },
 "nbformat": 4,
 "nbformat_minor": 2
}
