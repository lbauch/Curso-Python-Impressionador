{
 "cells": [
  {
   "cell_type": "markdown",
   "metadata": {},
   "source": [
    "Strings em Python são consideradas como lista/cadeia de caracteres\n",
    "Iniciando em 0."
   ]
  },
  {
   "cell_type": "code",
   "execution_count": null,
   "metadata": {},
   "outputs": [],
   "source": [
    "email = 'lucasb@gmail'\n",
    "print(len(email))\n",
    "print(email[3])\n",
    "print(email[-1])\n",
    "print(email[-9])\n",
    "\n",
    "# para pegar um pedaço e texto:\n",
    "print(email[:1])\n",
    "# imprime todos os caracteres antes do índice 1.\n",
    "print(email[:-3])\n",
    "print(email[5:])\n",
    "# imprime somente a partir do índice 5\n",
    "print(email[5:8])\n",
    "print('Tamanho do email:' + str(len(email)))\n",
    "# Necessário executar a conversão."
   ]
  },
  {
   "cell_type": "code",
   "execution_count": null,
   "metadata": {},
   "outputs": [],
   "source": []
  }
 ],
 "metadata": {
  "kernelspec": {
   "display_name": "Python 3",
   "language": "python",
   "name": "python3"
  },
  "language_info": {
   "codemirror_mode": {
    "name": "ipython",
    "version": 3
   },
   "file_extension": ".py",
   "mimetype": "text/x-python",
   "name": "python",
   "nbconvert_exporter": "python",
   "pygments_lexer": "ipython3",
   "version": "3.12.7"
  }
 },
 "nbformat": 4,
 "nbformat_minor": 2
}
