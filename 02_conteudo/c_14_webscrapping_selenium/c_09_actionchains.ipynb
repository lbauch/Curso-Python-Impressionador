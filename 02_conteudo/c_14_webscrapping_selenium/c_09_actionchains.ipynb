{
 "cells": [
  {
   "cell_type": "markdown",
   "id": "367cd714",
   "metadata": {},
   "source": [
    "### Documentação Selenium:\n",
    "\n",
    "- https://selenium-python.readthedocs.io/locating-elements.html\n",
    "\n",
    "\n",
    "ActionChains é utilizado para simular botões em sequência."
   ]
  },
  {
   "cell_type": "code",
   "execution_count": null,
   "id": "4e28f9f7",
   "metadata": {},
   "outputs": [],
   "source": [
    "from selenium import webdriver\n",
    "from selenium.webdriver.chrome.service import Service\n",
    "from webdriver_manager.chrome import ChromeDriverManager\n",
    "from selenium.webdriver.common.by import By\n",
    "\n",
    "servico = Service(ChromeDriverManager().install())\n",
    "navegador = webdriver.Chrome(service=servico)"
   ]
  },
  {
   "cell_type": "code",
   "execution_count": null,
   "id": "59c8398d",
   "metadata": {},
   "outputs": [],
   "source": [
    "import os\n",
    "\n",
    "caminho = os.getcwd()\n",
    "arquivo = caminho + r\"\\Pagina Hashtag.html\"\n",
    "navegador.get(arquivo)"
   ]
  },
  {
   "cell_type": "markdown",
   "id": "7d964ce5",
   "metadata": {},
   "source": [
    "#### Dropdown diferente em um site real"
   ]
  },
  {
   "cell_type": "code",
   "execution_count": null,
   "id": "09f60749",
   "metadata": {},
   "outputs": [],
   "source": [
    "# Opção 1 - pegar o link direto\n",
    "link = navegador.find_element(By.XPATH, r'//*[@id=\"menu-item-17042\"]/a').get_attribute('href')\n",
    "navegador.get(link)"
   ]
  },
  {
   "cell_type": "markdown",
   "id": "80f18fcd",
   "metadata": {},
   "source": [
    "### ActionChains\n",
    "\n",
    "Link com a referência: https://www.selenium.dev/pt-br/documentation/webdriver/actions_api/mouse/"
   ]
  },
  {
   "cell_type": "code",
   "execution_count": null,
   "id": "dbac0005",
   "metadata": {},
   "outputs": [],
   "source": [
    "# Opção 2 - Utilizar o ActionChains para simular ações reais\n",
    "import time\n",
    "from selenium .webdriver import ActionChains\n",
    "\n",
    "menu = navegador.find_element(By.xpath, r'//*[@id=\"menu-item-dropdown-16313\"]')\n",
    "item = navegador.find_element(By.xpath, r'//*[@id=\"menu-item-17042\"]/a')\n",
    "\n",
    "# colocar o mouse sobre o menu\n",
    "# Opcional: actions = ActionChains(navegador)\n",
    "# actions.move_to_element\n",
    "# APÓS DEFINIR UMA AÇÃO COM ACTIONCHAINS: perform() executa\n",
    "# Ao utilizar o ActionChains, cuidar para não utilizar alt + tab tão rápido\n",
    "ActionChains(navegador).move_to_element(menu).perform()\n",
    "time.sleep(1)\n",
    "item.click()\n",
    "\n"
   ]
  },
  {
   "cell_type": "code",
   "execution_count": null,
   "id": "a93e7678",
   "metadata": {},
   "outputs": [],
   "source": [
    "# Opção 3 - Adicionar classes no HTML, pois ao passar o mouse sobre um elemento,\n",
    "# normalmente as classes são alteradas ou algum atributo muda\n",
    "# Adiciona uma classe ao elemento\n",
    "elemento = navegador.find_element(\"id\", \"meu-elemento\")\n",
    "navegador.execute_script(\"arguments[0].classList.add('nova-classe');\", elemento)"
   ]
  }
 ],
 "metadata": {
  "kernelspec": {
   "display_name": "Python 3",
   "language": "python",
   "name": "python3"
  },
  "language_info": {
   "codemirror_mode": {
    "name": "ipython",
    "version": 3
   },
   "file_extension": ".py",
   "mimetype": "text/x-python",
   "name": "python",
   "nbconvert_exporter": "python",
   "pygments_lexer": "ipython3",
   "version": "3.13.0"
  }
 },
 "nbformat": 4,
 "nbformat_minor": 5
}
