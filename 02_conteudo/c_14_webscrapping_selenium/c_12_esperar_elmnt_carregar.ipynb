{
 "cells": [
  {
   "cell_type": "code",
   "execution_count": 1,
   "id": "e5668056",
   "metadata": {},
   "outputs": [
    {
     "name": "stderr",
     "output_type": "stream",
     "text": [
      "\n",
      "\n",
      "====== WebDriver manager ======\n",
      "Current google-chrome version is 104.0.5112\n",
      "Get LATEST chromedriver version for 104.0.5112 google-chrome\n",
      "There is no [win32] chromedriver for browser  in cache\n",
      "Trying to download new driver from https://chromedriver.storage.googleapis.com/104.0.5112.79/chromedriver_win32.zip\n",
      "Driver has been saved in cache [C:\\Users\\joaol\\.wdm\\drivers\\chromedriver\\win32\\104.0.5112.79]\n"
     ]
    }
   ],
   "source": [
    "# criar o navegador\n",
    "from selenium import webdriver\n",
    "from selenium.webdriver.chrome.service import Service\n",
    "from webdriver_manager.chrome import ChromeDriverManager\n",
    "from selenium.webdriver.common.by import By\n",
    "\n",
    "servico = Service(ChromeDriverManager().install())\n",
    "navegador = webdriver.Chrome(service=servico)"
   ]
  },
  {
   "cell_type": "code",
   "execution_count": null,
   "id": "0c0ecdda",
   "metadata": {},
   "outputs": [],
   "source": [
    "# na marra, colocando um time.sleep fixo - não recomendado, pois pode ser demais ou insuficiente\n",
    "import time\n",
    "\n",
    "navegador.get(\"https://www.hashtagtreinamentos.com/\")\n",
    "time.sleep(15)\n",
    "navegador.find_element(By.CLASS_NAME, 'eicon-close').click()"
   ]
  },
  {
   "cell_type": "code",
   "execution_count": null,
   "id": "491d73e1",
   "metadata": {},
   "outputs": [],
   "source": [
    "# loop - executa enquanto não possuir elementos com as condições informadas\n",
    "navegador.get(\"https://www.hashtagtreinamentos.com/\")\n",
    "\n",
    "while len(navegador.find_elements(By.CLASS_NAME, 'eicon-close')) < 1:\n",
    "    time.sleep(1)\n",
    "# Selenium pode carregar o elemento sem ele ter sido efetivamente carregado na tela\n",
    "time.sleep(1) # garantia que o frontend tenha sido carregado.\n",
    "\n",
    "navegador.find_element(By.CLASS_NAME, 'eicon-close').click()\n",
    "    "
   ]
  },
  {
   "cell_type": "code",
   "execution_count": null,
   "id": "fff0e81c",
   "metadata": {},
   "outputs": [],
   "source": [
    "# basicamente, executa as condições feitas acima para tentar\n",
    "# EC WebDriverWait\n",
    "from selenium.webdriver.support.ui import WebDriverWait\n",
    "from selenium.webdriver.support import expected_conditions as EC\n",
    "\n",
    "navegador.get(\"https://www.hashtagtreinamentos.com/\")\n",
    "\n",
    "# Automaticamente atribui o elemento após funcionar\n",
    "# WebDriverWait(navegador, tempo_maximo)\n",
    "# until() - até que o site encontre um elemento com a condição esperada\n",
    "# presence_of_element_located - deve conter uma tupla com os parâmetros necessários, similar a outros métodos\n",
    "# Ou seja, após presence_of... deve conter 2 (( ))\n",
    "elemento = WebDriverWait(navegador, 20).until(EC.presence_of_element_located((By.CLASS_NAME, 'eicon-close')))\n",
    "time.sleep(1) # garantia de carregamento\n",
    "\n",
    "elemento.click()"
   ]
  },
  {
   "cell_type": "markdown",
   "id": "07e3d01d",
   "metadata": {},
   "source": [
    "Há também outras formas de realizar esperas com o Selenium, que podem ser consultadas na documentação. Por exemplo: esperar até que algum elemento possua determinado texto"
   ]
  }
 ],
 "metadata": {
  "kernelspec": {
   "display_name": "Python 3 (ipykernel)",
   "language": "python",
   "name": "python3"
  },
  "language_info": {
   "codemirror_mode": {
    "name": "ipython",
    "version": 3
   },
   "file_extension": ".py",
   "mimetype": "text/x-python",
   "name": "python",
   "nbconvert_exporter": "python",
   "pygments_lexer": "ipython3",
   "version": "3.9.7"
  }
 },
 "nbformat": 4,
 "nbformat_minor": 5
}
