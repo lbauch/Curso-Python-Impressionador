{
 "cells": [
  {
   "cell_type": "markdown",
   "metadata": {},
   "source": [
    "# Exercícios"
   ]
  },
  {
   "cell_type": "markdown",
   "metadata": {},
   "source": [
    "## 1. Criando um mini sistema de controle de estoque\n",
    "\n",
    "- Crie um sistema para ser usado pelo time de controle de estoque de um centro de distribuição.\n",
    "- Imagine que ao fim de todo dia, o time conta quantas unidades de produto existem no estoque. Se tivermos um estoque abaixo do estoque permitido para aquela categoria do produto, o time deve ser avisado (print) para fazer um novo pedido daquele produto.\n",
    "- Cada categoria de produto tem um estoque mínimo diferente, segundo a regra abaixo:\n",
    "\n",
    "- alimentos -> Estoque mínimo: 50\n",
    "- bebidas -> Estoque mínimo: 75\n",
    "- limpeza -> Estoque mínimo: 30\n",
    "\n",
    "Para isso vamos criar um programa que pede 3 inputs do usuário: nome do produto, categoria e quantidade atual em estoque.\n",
    "\n",
    "Se o produto tiver abaixo do estoque mínimo da categoria dele, o programa deve printar a mensagem \"Solicitar {produto} à equipe de compras, temos apenas {unidades} em estoque\"\n",
    "\n",
    "Exemplo: Se o usuário preenche os inputs com: bebidas, dolly, 90, o programa não deve exibir nenhuma mensagem.<br>\n",
    "Agora, se o usuário preenche os inputs com: bebidas, guaraná, 60, o programa deve exibir a mensagem \"Solicitar guaraná à equipe de compras, temos apenas 60 unidades em estoque.\n",
    "\n",
    "Obs: lembre de usar o int() para transformar o número inserido pelo usuário no input de string para int.<br>\n",
    "Obs2: Caso o usuário não preencha alguma das 3 informações, o programa deve exibir uma mensagem para avisá-lo de preencher corretamente."
   ]
  },
  {
   "cell_type": "code",
   "execution_count": 13,
   "metadata": {},
   "outputs": [
    {
     "name": "stdout",
     "output_type": "stream",
     "text": [
      "Por favor, digite um número inteiro válido.\n",
      "Por favor, digite um número inteiro válido.\n",
      "Por favor, digite um número inteiro válido.\n",
      "Por favor, digite um número inteiro válido.\n",
      "Solicitar a à equipe do compras. Temos apenas 1 unidades.\n"
     ]
    }
   ],
   "source": [
    "nome_produto = input('Digite o nome do produto:\\n')\n",
    "while not nome_produto:\n",
    "    nome_produto = input('Nome não pode ser vazio:\\n')\n",
    "categoria_produto = input('Digite a categoria\\n')\n",
    "while categoria_produto != 'alimentos' and\\\n",
    "    categoria_produto != 'bebidas' and\\\n",
    "    categoria_produto != 'limpeza':\n",
    "    categoria_produto = input('Digite uma categoria válida: alimentos, bebidas, limpeza:\\n')\n",
    "while True:\n",
    "    try:\n",
    "        total_estoque = int(input(\"Digite um número inteiro: \"))\n",
    "        break\n",
    "    except ValueError:\n",
    "        print(\"Por favor, digite um número inteiro válido.\")\n",
    "if (categoria_produto == 'alimentos' and total_estoque < 50) or\\\n",
    "    (categoria_produto == 'bebidas' and total_estoque < 75) or\\\n",
    "    (categoria_produto == 'limpeza' and total_estoque < 30):\n",
    "    print(f'Solicitar {nome_produto} à equipe do compras. \\\n",
    "Temos apenas {total_estoque} unidades.')\n"
   ]
  }
 ],
 "metadata": {
  "kernelspec": {
   "display_name": "Python 3",
   "language": "python",
   "name": "python3"
  },
  "language_info": {
   "codemirror_mode": {
    "name": "ipython",
    "version": 3
   },
   "file_extension": ".py",
   "mimetype": "text/x-python",
   "name": "python",
   "nbconvert_exporter": "python",
   "pygments_lexer": "ipython3",
   "version": "3.13.0"
  }
 },
 "nbformat": 4,
 "nbformat_minor": 4
}
