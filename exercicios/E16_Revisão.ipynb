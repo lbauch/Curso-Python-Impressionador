{
 "cells": [
  {
   "cell_type": "markdown",
   "id": "68b1c105fc6d5a40",
   "metadata": {},
   "source": [
    "# Exercícios de fixação "
   ]
  },
  {
   "cell_type": "markdown",
   "id": "d81c51497df6ecd4",
   "metadata": {},
   "source": [
    "A seguir, você encontrará alguns exercícios para fixar os conceitos aprendidos no curso até agora. Os exercícios estão divididos por exemplos práticos da vida real:\n",
    "\n",
    "- lista de compras\n",
    "- previsão de vendas\n",
    "- relatório de vendas\n",
    "- segmentação de clientes\n",
    "- analisador de texto\n",
    "\n",
    "Para cada assunto, você encontrará ao menos um exercício. Nos casos onde há mais de um exercício para o mesmo assunto, você será convidado a resolver o mesmo problema de formas diferentes. Isso é proposital, pois o objetivo é que você pratique o que aprendeu e, ao mesmo tempo, aprenda novas formas de resolver um mesmo problema. Por exemplo, usando diferentes estruturas de dados, ou diferentes formas de iterar sobre uma estrutura de dados, ou, ainda, utilizando funções.\n",
    "\n",
    "Tente resolver os exercícios sozinho. Se tiver dificuldades, consulte o material do curso e, se ainda assim não conseguir resolver, consulte a solução."
   ]
  },
  {
   "cell_type": "markdown",
   "id": "2fd1aaad9d2664d6",
   "metadata": {},
   "source": [
    "## Lista de compras"
   ]
  },
  {
   "cell_type": "markdown",
   "id": "8d98a0cd2735ed15",
   "metadata": {},
   "source": [
    "### Primeira versão da lista de compras"
   ]
  },
  {
   "cell_type": "markdown",
   "id": "76793ae6bcbd8eb0",
   "metadata": {},
   "source": [
    "Escreva um programa que permita que um usuário crie uma lista de compras.\n",
    "O usuário deve ser capaz de adicionar itens, remover itens e visualizar a lista.\n",
    "\n",
    "Estruture seu programa da seguinte forma:\n",
    "\n",
    "1. Crie uma lista vazia para armazenar os itens da lista de compras.\n",
    "2. Crie um loop infinito que imprima um menu de opções ao usuário e permita que ele escolha uma opção.\n",
    "3. Dentro do loop, use uma declaração if para executar a tarefa apropriada de acordo com a escolha do usuário.\n",
    "4. Se o usuário escolher adicionar um item, solicite que ele digite o nome do item e adicione-o à lista.\n",
    "5. Se o usuário escolher remover um item, solicite que ele digite o nome do item e remova-o da lista.\n",
    "6. Se o usuário escolher ver a lista, mostre cada item da lista em sua própria linha.\n",
    "7. Se o usuário escolher sair, encerre o loop usando break.\n",
    "\n",
    "Exemplo de saída:\n",
    "\n",
    "```\n",
    "1 Adicionar item\n",
    "2 Remover item\n",
    "3 Ver lista\n",
    "4 Sair\n",
    "Escolha uma opção: 1\n",
    "Digite um item: banana\n",
    "\n",
    "1 Adicionar item\n",
    "2 Remover item\n",
    "3 Ver lista\n",
    "4 Sair\n",
    "Escolha uma opção: 1\n",
    "Digite um item: maçã\n",
    "\n",
    "1 Adicionar item\n",
    "2 Remover item\n",
    "3 Ver lista\n",
    "4 Sair\n",
    "Escolha uma opção: 3\n",
    "['banana', 'maçã']\n",
    "\n",
    "1 Adicionar item\n",
    "2 Remover item\n",
    "3 Ver lista\n",
    "4 Sair\n",
    "Escolha uma opção: 2\n",
    "Digite um item: banana\n",
    "\n",
    "1 Adicionar item\n",
    "2 Remover item\n",
    "3 Ver lista\n",
    "4 Sair\n",
    "Escolha uma opção: 3\n",
    "['maçã']\n",
    "\n",
    "1 Adicionar item\n",
    "2 Remover item\n",
    "3 Ver lista\n",
    "4 Sair\n",
    "Escolha uma opção: 4\n",
    "```"
   ]
  },
  {
   "cell_type": "code",
   "execution_count": null,
   "id": "45c4e67317fa32b7",
   "metadata": {
    "ExecuteTime": {
     "end_time": "2023-08-02T12:34:44.268236100Z",
     "start_time": "2023-08-02T12:34:27.838518600Z"
    },
    "collapsed": false,
    "jupyter": {
     "outputs_hidden": false
    },
    "tags": []
   },
   "outputs": [],
   "source": [
    "# solução\n",
    "\n",
    "lista_compras = []\n",
    "\n",
    "while True:\n",
    "    print()                                 # linha em branco no início\n",
    "    \n",
    "    print(\"1 Adicionar item\")\n",
    "    print(\"2 Remover item\")\n",
    "    print(\"3 Ver lista\")\n",
    "    print(\"4 Sair\")\n",
    "    \n",
    "    escolha = input(\"Escolha uma opção: \")\n",
    "    \n",
    "    if escolha == '1':\n",
    "        item = input(\"Digite um item: \")\n",
    "        lista_compras.append(item)\n",
    "    elif escolha == '2':\n",
    "        item = input(\"Digite um item: \")\n",
    "        if item in lista_compras:\n",
    "            lista_compras.remove(item)\n",
    "    elif escolha == '3':\n",
    "        print(lista_compras)\n",
    "    elif escolha == '4':\n",
    "        break\n"
   ]
  },
  {
   "cell_type": "markdown",
   "id": "e72063557a269f88",
   "metadata": {},
   "source": [
    "### Segunda versão da lista de compras\n"
   ]
  },
  {
   "cell_type": "markdown",
   "id": "eadb8c98aececf0c",
   "metadata": {},
   "source": [
    "Mude o programa de lista de compras para usar um dicionário ao invés de uma lista.\n",
    "O programa deve ter as mesmas funcionalidades, mas agora deve ser possível\n",
    "adicionar mais de uma unidade de um item na lista de compras. Ou seja, o dicionário\n",
    "deve armazenar o nome do item e a quantidade desejada pelo usuário. Por exemplo,\n",
    "se o usuário digitar \"banana\" e \"2\", o dicionário deve armazenar \"banana\" como chave\n",
    "e 2 como valor. A estrutura do dicionário ficaria assim: `{\"banana\": 2}`.\n",
    "\n",
    "O programa deve permitir que o usuário adicione, remova e visualize o dicionário de compras.\n",
    "\n",
    "Além disso, o programa deve mostrar uma mensagem de erro se o usuário tentar\n",
    "usar uma opção inválida do menu. Por exemplo, se o usuário digitar 5, o programa\n",
    "deve mostrar a mensagem \"Opção inválida. Por favor, escolha uma opção válida.\" e\n",
    "mostrar o menu novamente. Além disso, o programa deve ser *case insensitive*, ou seja,\n",
    "\"Maçã\" e \"maçã\" devem ser considerados o mesmo item.\n",
    "\n",
    "Exemplo de saída:\n",
    "\n",
    "```\n",
    "1 Adicionar item\n",
    "2 Remover item\n",
    "3 Ver lista\n",
    "4 Sair\n",
    "Escolha uma opção: 1\n",
    "Digite um item: banana\n",
    "Digite a quantidade: 2\n",
    "\n",
    "1 Adicionar item\n",
    "2 Remover item\n",
    "3 Ver lista\n",
    "4 Sair\n",
    "Escolha uma opção: 1\n",
    "Digite um item: maçã\n",
    "Digite a quantidade: 3\n",
    "\n",
    "1 Adicionar item\n",
    "2 Remover item\n",
    "3 Ver lista\n",
    "4 Sair\n",
    "Escolha uma opção: 3\n",
    "{'banana': 2, 'maçã': 3}\n",
    "\n",
    "1 Adicionar item\n",
    "2 Remover item\n",
    "3 Ver lista\n",
    "4 Sair\n",
    "Escolha uma opção: 2\n",
    "Digite um item: banana\n",
    "Digite a quantidade: 1\n",
    "\n",
    "1 Adicionar item\n",
    "2 Remover item\n",
    "3 Ver lista\n",
    "4 Sair\n",
    "Escolha uma opção: 3\n",
    "{'banana': 1, 'maçã': 3}\n",
    "\n",
    "1 Adicionar item\n",
    "2 Remover item\n",
    "3 Ver lista\n",
    "4 Sair\n",
    "Escolha uma opção: 4\n",
    "```\n"
   ]
  },
  {
   "cell_type": "code",
   "execution_count": null,
   "id": "b18d69c02667c201",
   "metadata": {
    "collapsed": false,
    "jupyter": {
     "outputs_hidden": false
    },
    "tags": []
   },
   "outputs": [],
   "source": [
    "# solução\n",
    "\n",
    "# observe que agora é um dicionário, não uma lista mais. Não confunda o nome da variável\n",
    "# com o tipo de dado que ela armazena. O nome da variável é lista_compras, mas ela\n",
    "# armazena um dicionário, não uma lista. O nome da variável é apenas uma convenção\n",
    "# para facilitar a leitura do código, já que é usual no cotidiano falarmos lista de compras.\n",
    "# Você poderia ter escolhido outro nome para a variável, como dicionario_compras, por exemplo.\n",
    "# Ou, simplesmente compras. \n",
    "# O importante é que o nome da variável seja significativo e facilite a leitura do código. \n",
    "\n",
    "lista_compras = {}\n",
    "\n",
    "while True:\n",
    "    print()\n",
    "    \n",
    "    print(\"1 Adicionar item\")\n",
    "    print(\"2 Remover item\")\n",
    "    print(\"3 Ver lista\")\n",
    "    print(\"4 Sair\")\n",
    "    \n",
    "    escolha = input(\"Escolha uma opção: \")\n",
    "    \n",
    "    if escolha == '1':\n",
    "        item = input(\"Digite um item: \").lower()\n",
    "        quantidade = int(input(\"Digite a quantidade: \"))\n",
    "        if item in lista_compras:\n",
    "            lista_compras[item] += quantidade\n",
    "        else:\n",
    "            lista_compras[item] = quantidade\n",
    "    elif escolha == '2':\n",
    "        item = input(\"Digite um item: \").lower()\n",
    "        if item in lista_compras:\n",
    "            quantidade = int(input(\"Digite a quantidade: \"))\n",
    "            if quantidade >= lista_compras[item]:\n",
    "                del lista_compras[item]\n",
    "            else:\n",
    "                lista_compras[item] -= quantidade\n",
    "        else:\n",
    "            print(\"Item não está na lista de compras\")\n",
    "    elif escolha == '3':\n",
    "        for item, quantidade in lista_compras.items():\n",
    "            print(f\"{item}: {quantidade}\")\n",
    "    elif escolha == '4':\n",
    "        break\n",
    "    else:\n",
    "        print(\"Opção inválida. Por favor, escolha uma opção válida.\")\n"
   ]
  },
  {
   "cell_type": "markdown",
   "id": "54b3116e8672ece9",
   "metadata": {},
   "source": [
    "### Terceira versão da lista de compras"
   ]
  },
  {
   "cell_type": "markdown",
   "id": "60956ff5a8f85a63",
   "metadata": {},
   "source": [
    "Mantenha o programa da lista de compras com dicionário, mas agora use funções para organizar o código. Crie funções para cada uma das opções do menu: `adicionar_item`, `remover_item` e `ver_lista`. Crie também uma função para mostrar o menu. O programa deve continuar funcionando da mesma forma, mas agora o código deve estar organizado em funções.\n"
   ]
  },
  {
   "cell_type": "code",
   "execution_count": null,
   "id": "2090255b55f11c26",
   "metadata": {
    "collapsed": false,
    "jupyter": {
     "outputs_hidden": false
    },
    "tags": []
   },
   "outputs": [],
   "source": [
    "# solução\n",
    "    \n",
    "    \n",
    "def adicionar_item(lista_compras):\n",
    "    item = input(\"Digite um item: \").lower()\n",
    "    quantidade = int(input(\"Digite a quantidade: \"))\n",
    "    if item in lista_compras:\n",
    "        lista_compras[item] += quantidade\n",
    "    else:\n",
    "        lista_compras[item] = quantidade\n",
    "\n",
    "        \n",
    "def remover_item(lista_compras):\n",
    "    item = input(\"Digite um item: \").lower()\n",
    "    if item in lista_compras:\n",
    "        quantidade = int(input(\"Digite a quantidade: \"))\n",
    "        if quantidade >= lista_compras[item]:\n",
    "            del lista_compras[item]\n",
    "        else:\n",
    "            lista_compras[item] -= quantidade\n",
    "    else:\n",
    "        print(\"Item não está na lista de compras\")\n",
    "        \n",
    "\n",
    "def ver_lista(lista_compras):\n",
    "    for item, quantidade in lista_compras.items():\n",
    "        print(f\"{item}: {quantidade}\")\n",
    "        \n",
    "\n",
    "def main():\n",
    "    \n",
    "    lista_compras = {}  \n",
    "    \n",
    "    while True:\n",
    "        print()\n",
    "        \n",
    "        print(\"1 Adicionar item\")\n",
    "        print(\"2 Remover item\")\n",
    "        print(\"3 Ver lista\")\n",
    "        print(\"4 Sair\")\n",
    "        escolha = input(\"Escolha uma opção: \")\n",
    "        if escolha == '1':\n",
    "            adicionar_item(lista_compras)\n",
    "        elif escolha == '2':\n",
    "            remover_item(lista_compras)\n",
    "        elif escolha == '3':\n",
    "            ver_lista(lista_compras)\n",
    "        elif escolha == '4':\n",
    "            break\n",
    "        else:\n",
    "            print(\"Opção inválida. Por favor, escolha uma opção válida.\")\n",
    "\n",
    "if __name__ == \"__main__\":\n",
    "    main()\n"
   ]
  },
  {
   "cell_type": "markdown",
   "id": "8d588e67cfbfbca5",
   "metadata": {},
   "source": [
    "## Previsão de vendas"
   ]
  },
  {
   "cell_type": "markdown",
   "id": "8e0c92fdb167f2b7",
   "metadata": {},
   "source": [
    "### Primeira versão da previsão de vendas"
   ]
  },
  {
   "cell_type": "markdown",
   "id": "5cdcbbd0f8e2fef2",
   "metadata": {},
   "source": [
    "Escreva um programa que preveja as vendas totais para cada produto em uma empresa.\n",
    "O usuário deve digitar o nome do produto, as vendas do mês atual e a taxa de crescimento,\n",
    "e o programa deve calcular as vendas previstas para o próximo mês.\n",
    "\n",
    "Estruture seu programa da seguinte forma:\n",
    "\n",
    "1. Crie um dicionário vazio para armazenar as previsões de vendas.\n",
    "2. Crie um loop infinito que solicite ao usuário o nome do produto, as vendas do mês atual e a taxa de crescimento.\n",
    "3. Dentro do loop, use uma declaração if para verificar se o usuário digitou 'sair'.\n",
    "4. Se o usuário digitar 'sair', encerre o loop usando break.\n",
    "5. Se o usuário digitar qualquer outra coisa, use as entradas para calcular as vendas previstas e adicione-as ao dicionário.\n",
    "6. Depois que o loop for encerrado, use um loop for para iterar sobre o dicionário e mostrar as previsões de vendas para cada produto.\n",
    "\n",
    "Exemplo de saída:\n",
    "\n",
    "```\n",
    "Digite o nome do produto (ou 'sair' para sair): iphone\n",
    "Digite as vendas do mês atual: 10000\n",
    "Digite a taxa de crescimento (%): 10\n",
    "Digite o nome do produto (ou 'sair' para sair): capinha para iphone\n",
    "Digite as vendas do mês atual: 200\n",
    "Digite a taxa de crescimento (%): 20\n",
    "Digite o nome do produto (ou 'sair' para sair): sair\n",
    "iphone: Previsão de vendas do próximo mês = R$ 11000.00\n",
    "capinha para iphone: Previsão de vendas do próximo mês = R$ 240.00\n",
    "```\n"
   ]
  },
  {
   "cell_type": "code",
   "execution_count": null,
   "id": "eaedbd42fdbec32",
   "metadata": {
    "collapsed": false,
    "jupyter": {
     "outputs_hidden": false
    },
    "tags": []
   },
   "outputs": [],
   "source": [
    "# solução\n",
    "\n",
    "previsao = {}\n",
    "while True:\n",
    "    nome = input(\"Digite o nome do produto (ou 'sair' para sair): \")\n",
    "    if nome.lower() == 'sair':\n",
    "        break\n",
    "    vendas_atual = float(input(\"Digite as vendas do mês atual: \"))\n",
    "    taxa_crescimento = float(input(\"Digite a taxa de crescimento (%): \"))\n",
    "    vendas_proximo_mes = vendas_atual * (1 + taxa_crescimento / 100)\n",
    "    previsao[nome] = vendas_proximo_mes\n",
    "\n",
    "for nome, vendas_proximo_mes in previsao.items():\n",
    "    print(f\"{nome}: Previsão de vendas do próximo mês = R$ {vendas_proximo_mes:.2f}\")\n"
   ]
  },
  {
   "cell_type": "markdown",
   "id": "220e777cb67078ef",
   "metadata": {},
   "source": [
    "### Segunda versão da previsão de vendas\n"
   ]
  },
  {
   "cell_type": "markdown",
   "id": "fed0a44f64e893c7",
   "metadata": {},
   "source": [
    "Mantenha a mesma funcionalidade do programa anterior, mas agora valide a entrada do usuário.\n",
    "Se o usuário digitar um valor inválido para vendas ou taxa de crescimento, mostre a mensagem\n",
    "\"Entrada inválida. Por favor, digite um número para vendas e taxa de crescimento.\" e peça\n",
    "para o usuário digitar novamente. Tal validação deve ser feita usando try/except.\n"
   ]
  },
  {
   "cell_type": "code",
   "execution_count": null,
   "id": "2f5b03266aa76ac1",
   "metadata": {
    "collapsed": false,
    "jupyter": {
     "outputs_hidden": false
    },
    "tags": []
   },
   "outputs": [],
   "source": [
    "# solução\n",
    "\n",
    "previsao = {}\n",
    "while True:\n",
    "    nome = input(\"Digite o nome do produto (ou 'sair' para sair): \")\n",
    "    if nome.lower() == 'sair':\n",
    "        break\n",
    "    try:\n",
    "        vendas_atual = float(input(\"Digite as vendas do mês atual: \"))\n",
    "        taxa_crescimento = float(input(\"Digite a taxa de crescimento (%): \"))\n",
    "    except ValueError:\n",
    "        print(\"Entrada inválida. Por favor, digite um número para vendas e taxa de crescimento.\")\n",
    "        continue\n",
    "    vendas_proximo_mes = vendas_atual * (1 + taxa_crescimento / 100)\n",
    "    previsao[nome] = vendas_proximo_mes\n",
    "\n",
    "for nome, vendas_proximo_mes in previsao.items():\n",
    "    print(f\"{nome}: Previsão de vendas do próximo mês = R$ {vendas_proximo_mes:.2f}\")\n"
   ]
  },
  {
   "cell_type": "markdown",
   "id": "d861ab7ae8fb3309",
   "metadata": {},
   "source": [
    "## Relatório de vendas"
   ]
  },
  {
   "cell_type": "markdown",
   "id": "fee0c84ea4dcc146",
   "metadata": {},
   "source": [
    "### Primeira versão do relatório de vendas"
   ]
  },
  {
   "cell_type": "markdown",
   "id": "2f97dd1b949ee274",
   "metadata": {},
   "source": [
    "Escreva um programa que calcula o total e a média de vendas para cada vendedor em uma empresa.\n",
    "O usuário deve digitar o nome do vendedor e suas vendas, e o programa deve manter o controle\n",
    "do total e da média de vendas para cada vendedor.\n",
    "\n",
    "Estruture seu programa da seguinte forma:\n",
    "\n",
    "1. Crie um dicionário vazio para armazenar os dados de vendas.\n",
    "2. Crie um loop infinito que solicite ao usuário o nome do vendedor e suas vendas.\n",
    "3. Dentro do loop, use uma declaração if para verificar se o usuário digitou 'sair'.\n",
    "4. Se o usuário digitar 'sair', encerre o loop usando break.\n",
    "5. Se o usuário digitar qualquer outra coisa, use as entradas para calcular o total e a média de vendas para o vendedor e adicione-os ao dicionário.\n",
    "6. Depois que o loop for encerrado, use um loop for para iterar sobre o dicionário e mostrar o total e a média de vendas para cada vendedor.\n",
    "\n",
    "Exemplo de saída:\n",
    "    \n",
    "```\n",
    "Digite o nome do vendedor (ou 'sair' para sair): João\n",
    "Digite as vendas: 100\n",
    "Digite o nome do vendedor (ou 'sair' para sair): Maria\n",
    "Digite as vendas: 200\n",
    "Digite o nome do vendedor (ou 'sair' para sair): João\n",
    "Digite as vendas: 300\n",
    "Digite o nome do vendedor (ou 'sair' para sair): sair\n",
    "João: Total de vendas = R$ 400.0, Média de vendas = R$ 200.0\n",
    "Maria: Total de vendas = R$ 200.0, Média de vendas = R$ 200.0\n",
    "```\n",
    "\n",
    "Dica: use o método sum() para calcular o total de vendas e o método len() para calcular o número de vendas.\n"
   ]
  },
  {
   "cell_type": "code",
   "execution_count": null,
   "id": "850a34dfad3b326a",
   "metadata": {
    "collapsed": false,
    "jupyter": {
     "outputs_hidden": false
    },
    "tags": []
   },
   "outputs": [],
   "source": [
    "# solução\n",
    "\n",
    "dados_vendas = {}\n",
    "while True:\n",
    "    nome = input(\"Digite o nome do vendedor (ou 'sair' para sair): \")\n",
    "    if nome.lower() == 'sair':\n",
    "        break\n",
    "    vendas = float(input(\"Digite as vendas: \"))\n",
    "    if nome not in dados_vendas:\n",
    "        dados_vendas[nome] = [vendas]\n",
    "    else:\n",
    "        dados_vendas[nome].append(vendas)\n",
    "\n",
    "for nome, vendas in dados_vendas.items():\n",
    "    total_vendas = sum(vendas)\n",
    "    media_vendas = total_vendas / len(vendas)\n",
    "    print(f\"{nome}: Total de vendas = R$ {total_vendas:.2f}, Média de vendas = R$ {media_vendas:.2f}\")\n"
   ]
  },
  {
   "cell_type": "markdown",
   "id": "df0b488f9bf63f0f",
   "metadata": {},
   "source": [
    "### Segunda versão do relatório de vendas\n"
   ]
  },
  {
   "cell_type": "markdown",
   "id": "f6f7d690536b31ad",
   "metadata": {},
   "source": [
    "Mantenha a mesma funcionalidade do programa anterior, mas agora valide a entrada do usuário.\n",
    "Se o usuário digitar um valor inválido para vendas, mostre a mensagem\n",
    "\"Entrada inválida. Por favor, digite um número para vendas.\" e peça para o usuário digitar\n",
    "novamente. Tal validação deve ser feita usando try/except.\n",
    "\n",
    "Além disso, ao invés de armazenar cada venda em uma lista para cada vendedor, armazene\n",
    "o total de vendas e a quantidade de vendas em um dicionário. Por exemplo, se o usuário\n",
    "digitar \"João\" e \"1000\" para vendas, o dicionário deve ficar assim:\n",
    "\n",
    "```python\n",
    "{'João': {'total_vendas': 1000, 'quantidade_vendas': 1}}\n",
    "```\n",
    "\n",
    "Se, após, o usuário digitar \"João\" e \"2000\" para vendas, o dicionário deve ficar assim:\n",
    "\n",
    "```python\n",
    "{'João': {'total_vendas': 3000, 'quantidade_vendas': 2}}\n",
    "```\n",
    "\n",
    "Perceba como o total de vendas de João aumentou em 2000, assim como a quantidade aumentou em uma unidade.\n",
    "\n",
    "Ao final, mostre o total de vendas e a média de vendas de cada vendedor.\n",
    "\n",
    "Exemplo de saída:\n",
    "\n",
    "```\n",
    "Digite o nome do vendedor (ou 'sair' para sair): João\n",
    "Digite as vendas: 1000\n",
    "Digite o nome do vendedor (ou 'sair' para sair): Maria\n",
    "Digite as vendas: 2000\n",
    "Digite o nome do vendedor (ou 'sair' para sair): João\n",
    "Digite as vendas: 2000\n",
    "Digite o nome do vendedor (ou 'sair' para sair): Maria\n",
    "Digite as vendas: 3000\n",
    "Digite o nome do vendedor (ou 'sair' para sair): sair\n",
    "João: Total de vendas = R$ 3000.00, Média de vendas = R$ 1500.00\n",
    "Maria: Total de vendas = R$ 5000.00, Média de vendas = R$ 2500.00\n",
    "```\n"
   ]
  },
  {
   "cell_type": "code",
   "execution_count": null,
   "id": "acf9f8d385d8c261",
   "metadata": {
    "collapsed": false,
    "jupyter": {
     "outputs_hidden": false
    },
    "tags": []
   },
   "outputs": [],
   "source": [
    "# solução\n",
    "\n",
    "dados_vendas = {}\n",
    "while True:\n",
    "    nome = input(\"Digite o nome do vendedor (ou 'sair' para sair): \")\n",
    "    if nome.lower() == 'sair':\n",
    "        break\n",
    "    try:\n",
    "        vendas = float(input(\"Digite as vendas: \"))\n",
    "    except ValueError:\n",
    "        print(\"Entrada inválida. Por favor, digite um número para vendas.\")\n",
    "        continue\n",
    "    if nome not in dados_vendas:\n",
    "        dados_vendas[nome] = {'total_vendas': vendas, 'quantidade_vendas': 1}\n",
    "    else:\n",
    "        dados_vendas[nome]['total_vendas'] += vendas\n",
    "        dados_vendas[nome]['quantidade_vendas'] += 1\n",
    "\n",
    "for nome, dados in dados_vendas.items():\n",
    "    total_vendas = dados['total_vendas']\n",
    "    media_vendas = total_vendas / dados['quantidade_vendas']\n",
    "    print(f\"{nome}: Total de vendas = R$ {total_vendas:.2f}, Média de vendas = R$ {media_vendas:.2f}\")\n"
   ]
  },
  {
   "cell_type": "markdown",
   "id": "6d4ed09b42dbfd0f",
   "metadata": {},
   "source": [
    "### Terceira versão do relatório de vendas"
   ]
  },
  {
   "cell_type": "markdown",
   "id": "172639eaf7b59b37",
   "metadata": {},
   "source": [
    " Mantenha a funcionalidade do programa, mas agora use funções para organizar o código. Crie funções para cada uma das operações: `solicitar_nome_vendedor`, `solicitar_vendas` e `atualizar_dados` e `print_dados`. O programa deve continuar funcionando da mesma forma, mas agora o código deve estar organizado em funções."
   ]
  },
  {
   "cell_type": "code",
   "execution_count": null,
   "id": "2d9d97268c20cefd",
   "metadata": {
    "collapsed": false,
    "jupyter": {
     "outputs_hidden": false
    },
    "tags": []
   },
   "outputs": [],
   "source": [
    "# solução\n",
    "\n",
    "\n",
    "def solicitar_nome_vendedor():\n",
    "    return input(\"Digite o nome do vendedor (ou 'sair' para sair): \").lower()\n",
    "\n",
    "\n",
    "def solicitar_vendas():\n",
    "    try:\n",
    "        return float(input(\"Digite as vendas: \"))\n",
    "    except ValueError:\n",
    "        print(\"Entrada inválida. Por favor, digite um número para vendas.\")\n",
    "        return None\n",
    "\n",
    "    \n",
    "def atualizar_dados(dados_vendas, nome, vendas):\n",
    "    if nome not in dados_vendas:\n",
    "        dados_vendas[nome] = {'total_vendas': vendas, 'quantidade_vendas': 1}\n",
    "    else:\n",
    "        dados_vendas[nome]['total_vendas'] += vendas\n",
    "        dados_vendas[nome]['quantidade_vendas'] += 1\n",
    "        \n",
    "\n",
    "def print_dados(dados_vendas):\n",
    "    for nome, dados in dados_vendas.items():\n",
    "        total_vendas = dados['total_vendas']\n",
    "        media_vendas = total_vendas / dados['quantidade_vendas']\n",
    "        print(f\"{nome}: Total de vendas = R$ {total_vendas:.2f}, Média de vendas = R$ {media_vendas:.2f}\")\n",
    "        \n",
    "\n",
    "def main():\n",
    "    dados_vendas = {}\n",
    "    while True:\n",
    "        nome = solicitar_nome_vendedor()\n",
    "        if nome == 'sair':\n",
    "            break\n",
    "        vendas = solicitar_vendas()\n",
    "        if vendas is None:\n",
    "            continue\n",
    "        atualizar_dados(dados_vendas, nome, vendas)\n",
    "    print_dados(dados_vendas)\n",
    "\n",
    "if __name__ == \"__main__\":\n",
    "    main()\n"
   ]
  },
  {
   "cell_type": "markdown",
   "id": "62a19809a576b0f1",
   "metadata": {},
   "source": [
    "## Segmentação de clientes"
   ]
  },
  {
   "cell_type": "markdown",
   "id": "e442eb294aafb0b3",
   "metadata": {},
   "source": [
    "### Primeira versão da segmentação de clientes"
   ]
  },
  {
   "cell_type": "markdown",
   "id": "802af9ecdfa16fae",
   "metadata": {},
   "source": [
    "Escreva um programa que segmenta clientes com base em suas compras totais.\n",
    "O usuário deve digitar o nome do cliente e suas compras totais, e o programa\n",
    "deve atribuir cada cliente a um segmento: 'Bronze' para compras de até R\\\\$ 1000,\n",
    "'Prata' para compras de até R\\\\$ 5000 e 'Ouro' para compras acima de R\\\\$ 5000.\n",
    "\n",
    "Estruture seu programa da seguinte forma:\n",
    "\n",
    "1. Crie um dicionário vazio para armazenar os clientes e seus segmentos.\n",
    "2. Crie um loop infinito que solicite ao usuário o nome do cliente e suas compras totais.\n",
    "3. Dentro do loop, use uma declaração if para atribuir o segmento apropriado ao cliente.\n",
    "4. Se o usuário digitar 'sair' para o nome do cliente, encerre o loop usando break.\n",
    "5. Fora do loop, use um loop for para imprimir o nome e o segmento de cada cliente.\n",
    "\n",
    "Exemplo de saída:\n",
    "    \n",
    "```\n",
    "Digite o nome do cliente (ou 'sair' para sair): João\n",
    "Digite o total de compras: 100\n",
    "Digite o nome do cliente (ou 'sair' para sair): Maria\n",
    "Digite o total de compras: 2000\n",
    "Digite o nome do cliente (ou 'sair' para sair): José\n",
    "Digite o total de compras: 6000\n",
    "Digite o nome do cliente (ou 'sair' para sair): sair\n",
    "João: Segmento do Cliente = Bronze\n",
    "Maria: Segmento do Cliente = Prata\n",
    "José: Segmento do Cliente = Ouro\n",
    "```\n"
   ]
  },
  {
   "cell_type": "code",
   "execution_count": null,
   "id": "4db19cd98e8be766",
   "metadata": {
    "collapsed": false,
    "jupyter": {
     "outputs_hidden": false
    },
    "tags": []
   },
   "outputs": [],
   "source": [
    "# solução\n",
    "\n",
    "clientes = {}\n",
    "while True:\n",
    "    nome = input(\"Digite o nome do cliente (ou 'sair' para sair): \")\n",
    "    if nome.lower() == 'sair':\n",
    "        break\n",
    "    compras = float(input(\"Digite o total de compras: \"))\n",
    "    if compras <= 1000:\n",
    "        segmento = 'Bronze'\n",
    "    elif compras <= 5000:\n",
    "        segmento = 'Prata'\n",
    "    else:\n",
    "        segmento = 'Ouro'\n",
    "    clientes[nome] = segmento\n",
    "\n",
    "for nome, segmento in clientes.items():\n",
    "    print(f\"{nome}: Segmento do Cliente = {segmento}\")\n"
   ]
  },
  {
   "cell_type": "markdown",
   "id": "7479c6559d242c1f",
   "metadata": {},
   "source": [
    "### Segunda versão da segmentação de clientes\n"
   ]
  },
  {
   "cell_type": "markdown",
   "id": "8a1f0c9716cd55f5",
   "metadata": {},
   "source": [
    "\n",
    "Mantenha a mesma funcionalidade do programa anterior, mas agora valide a entrada do usuário.\n",
    "Se o usuário digitar um valor inválido para compras, mostre a mensagem\n",
    "\"Entrada inválida. Por favor, digite um número para compras.\" e peça para o usuário digitar\n",
    "novamente. Tal validação deve ser feita usando try/except.\n",
    "\n",
    "Além disso, ao invés de deixar os limites de compras fixos no programa, armazene-os em uma\n",
    "lista de tuplas. Por exemplo:\n",
    "\n",
    "```python\n",
    "segmentos = [(1000, 'Bronze'), (5000, 'Prata'), (float('inf'), 'Ouro')]\n",
    "``` \n",
    "\n",
    "Assim, outros segmentos podem ser adicionados facilmente. O primeiro elemento da tupla é o\n",
    "limite de compras e o segundo é o nome do segmento. O último elemento da lista é uma tupla\n",
    "com limite `float('inf')`, que representa o segmento Ouro. Isso significa que, se o valor de\n",
    "compras for maior que todos os limites, o segmento será Ouro.\n",
    "\n",
    "Depois, percorra essa lista e, para cada tupla, verifique se o valor de compras é menor ou igual\n",
    "ao limite. Se for, armazene o segmento em um dicionário. Por exemplo, se o usuário digitar\n",
    "\"João\" e \"500\" para compras, o dicionário deve ficar assim:\n",
    "`{'João': 'Bronze'}`\n"
   ]
  },
  {
   "cell_type": "code",
   "execution_count": null,
   "id": "d6b28cbd519b19db",
   "metadata": {
    "collapsed": false,
    "jupyter": {
     "outputs_hidden": false
    },
    "tags": []
   },
   "outputs": [],
   "source": [
    "# solução\n",
    "\n",
    "segmentos = [(1000, 'Bronze'), (5000, 'Prata'), (float('inf'), 'Ouro')]\n",
    "clientes = {}\n",
    "while True:\n",
    "    nome = input(\"Digite o nome do cliente (ou 'sair' para sair): \")\n",
    "    if nome.lower() == 'sair':\n",
    "        break\n",
    "    try:\n",
    "        compras = float(input(\"Digite o total de compras: \"))\n",
    "    except ValueError:\n",
    "        print(\"Entrada inválida. Por favor, digite um número para compras.\")\n",
    "        continue\n",
    "    for limite, segmento in segmentos:\n",
    "        if compras <= limite:\n",
    "            clientes[nome] = segmento\n",
    "            break\n",
    "\n",
    "for nome, segmento in clientes.items():\n",
    "    print(f\"{nome}: Segmento do Cliente = {segmento}\")\n"
   ]
  },
  {
   "cell_type": "markdown",
   "id": "e0b43f24e484cff6",
   "metadata": {},
   "source": [
    "### Terceira versão da segmentação de clientes"
   ]
  },
  {
   "cell_type": "markdown",
   "id": "540a003667a58fe3",
   "metadata": {},
   "source": [
    "Mantenha a funcionalidade do programa, mas agora use funções para organizar o código. Crie funções para cada uma das operações: `solicitar_nome_cliente`, `solicitar_total_compras` e `atribuir_segmento` e `print_segmento_por_cliente`. O programa deve continuar funcionando da mesma forma, mas agora o código deve estar organizado em funções. Além disso, normalize que todos os nomes sejam armazenados em letras minúsculas."
   ]
  },
  {
   "cell_type": "code",
   "execution_count": null,
   "id": "3e2ae1f61a34ac14",
   "metadata": {
    "collapsed": false,
    "jupyter": {
     "outputs_hidden": false
    },
    "tags": []
   },
   "outputs": [],
   "source": [
    "# solução\n",
    "\n",
    "\n",
    "def solicitar_nome_cliente():\n",
    "    return input(\"Digite o nome do cliente (ou 'sair' para sair): \").lower()\n",
    "\n",
    "\n",
    "def solicitar_total_compras():\n",
    "    try:\n",
    "        return float(input(\"Digite o total de compras: \"))\n",
    "    except ValueError:\n",
    "        print(\"Entrada inválida. Por favor, digite um número para compras.\")\n",
    "        return None\n",
    "    \n",
    "\n",
    "def atribuir_segmento(compras, segmentos):\n",
    "    for limite, segmento in segmentos:\n",
    "        if compras <= limite:\n",
    "            return segmento\n",
    "        \n",
    "\n",
    "def print_segmento_por_cliente(clientes):\n",
    "    for nome, segmento in clientes.items():\n",
    "        print(f\"{nome}: Segmento do Cliente = {segmento}\")\n",
    "        \n",
    "\n",
    "def main():\n",
    "    segmentos = [(1000, 'Bronze'), (5000, 'Prata'), (float('inf'), 'Ouro')]\n",
    "    clientes = {}\n",
    "    while True:\n",
    "        nome = solicitar_nome_cliente()\n",
    "        if nome == 'sair':\n",
    "            break\n",
    "        compras = solicitar_total_compras()\n",
    "        if compras is None:\n",
    "            continue\n",
    "        clientes[nome] = atribuir_segmento(compras, segmentos)\n",
    "    print_segmento_por_cliente(clientes)\n",
    "\n",
    "    \n",
    "if __name__ == \"__main__\":\n",
    "    main()\n"
   ]
  },
  {
   "cell_type": "markdown",
   "id": "2782ae42b0883ca",
   "metadata": {},
   "source": [
    "## Analisador de texto"
   ]
  },
  {
   "cell_type": "markdown",
   "id": "b854b1f160300285",
   "metadata": {},
   "source": [
    "Crie um programa que analise um texto fornecido pelo usuário.\n",
    "O programa deve contar o número de palavras (independentemente se há repetição ou não),\n",
    "a quantidade de cada palavra e a\n",
    "quantidade de cada letra. Ignore maiúsculas e minúsculas ao contar letras.\n",
    "Não se preocupe com pontuação e espaços ao contar palavras.\n",
    "\n",
    "O programa deve conter uma função chamada `analisar_texto` que recebe o texto\n",
    "como parâmetro e retorna a contagem de palavras, a frequência de palavras e a\n",
    "frequência de letras.\n",
    "\n",
    "Para o texto \"Olá mundo! Este é um teste. Olá novamente.\" o programa deve\n",
    "imprimir:\n",
    "    \n",
    "```\n",
    "Contagem de palavras: 8\n",
    "Frequência de palavras: {'Olá': 2, 'mundo!': 1, 'Este': 1, 'é': 1, 'um': 1, 'teste.': 1, 'novamente.': 1}\n",
    "Frequência de letras: {'o': 4, 'l': 2, 'á': 2, 'm': 3, 'u': 2, 'n': 3, 'd': 1, '!': 1, 'e': 6, 's': 2, 't': 4, 'é': 1, '.': 2, 'v': 1, 'a': 1}\n",
    "```\n",
    "\n",
    "**Observação**: Mais adiante no curso, aprenderemos a lidar com a pontuação."
   ]
  },
  {
   "cell_type": "code",
   "execution_count": null,
   "id": "6187a6a77f5a2f4a",
   "metadata": {
    "collapsed": false,
    "jupyter": {
     "outputs_hidden": false
    },
    "tags": []
   },
   "outputs": [],
   "source": [
    "# solução\n",
    "\n",
    "\n",
    "def analisar_texto(texto):\n",
    "    \n",
    "    palavras = texto.split()  # separa com base em espaços\n",
    "    contagem_palavras = len(palavras)\n",
    "    frequencia_palavras = {}\n",
    "    frequencia_letras = {}\n",
    "    \n",
    "    for palavra in palavras:\n",
    "        # abaixo, o get verificará se existe a palavra no dicionário. Não havendo, atribui o valor 0 e soma 1\n",
    "        frequencia_palavras[palavra] = frequencia_palavras.get(palavra, 0) + 1\n",
    "        for letra in palavra.lower():\n",
    "            # abaixo, o get verificará se existe a letra no dicionário. Não havendo, atribui o valor 0 e soma 1\n",
    "            frequencia_letras[letra] = frequencia_letras.get(letra, 0) + 1\n",
    "            \n",
    "    return contagem_palavras, frequencia_palavras, frequencia_letras\n",
    "\n",
    "\n",
    "texto = \"Olá mundo! Este é um teste. Olá novamente.\"\n",
    "contagem_palavras, frequencia_palavras, frequencia_letras = analisar_texto(texto)\n",
    "print(f\"Contagem de palavras: {contagem_palavras}\")\n",
    "print(f\"Frequência de palavras: {frequencia_palavras}\")\n",
    "print(f\"Frequência de letras: {frequencia_letras}\")\n"
   ]
  },
  {
   "cell_type": "markdown",
   "id": "ccbdb245",
   "metadata": {},
   "source": [
    "# Exercícios Python"
   ]
  },
  {
   "cell_type": "markdown",
   "id": "eed48751",
   "metadata": {},
   "source": [
    "### Sua empresa resolveu pagar uma bonificação de R$1.000 para todos os funcionários com mais de 20 anos de casa. Quanto vai custar a ação de bonificação para a sua empresa?"
   ]
  },
  {
   "cell_type": "code",
   "execution_count": null,
   "id": "41311638",
   "metadata": {},
   "outputs": [],
   "source": [
    "anos_casa_funcionarios = [10, 15, 20, 25, 30, 47, 2, 5, 5, 6, 18, 32, 10, 1, 1, 2, 3, 3, 2, 1, 10, 40, 21, 10, 1, 2, 5, 7, 7, 6, 9, 19]\n",
    "\n",
    "qtde_funcionarios_bonus = 0\n",
    "premio = 1000\n",
    "\n",
    "for tempo in anos_casa_funcionarios:\n",
    "    if tempo >= 20:\n",
    "        qtde_funcionarios_bonus += 1\n",
    "        \n",
    "print(\"Bonificação total\", qtde_funcionarios_bonus * premio)    "
   ]
  },
  {
   "cell_type": "markdown",
   "id": "1bbd2245",
   "metadata": {},
   "source": [
    "### Desenvolva um programa que armazene quatro notas em uma lista e que apresente: a média final, a maior nota e a menor nota\n"
   ]
  },
  {
   "cell_type": "code",
   "execution_count": null,
   "id": "175937cf",
   "metadata": {},
   "outputs": [],
   "source": [
    "notas = []\n",
    "for i in range(4):\n",
    "    nota = float(input(\"Digite a nota:\"))\n",
    "    notas.append(nota)\n",
    "\n",
    "print(\"Média:\", sum(notas) / len(notas))\n",
    "print(\"Maior Nota:\", max(notas))\n",
    "print(\"Menor Nota:\", min(notas))"
   ]
  },
  {
   "cell_type": "markdown",
   "id": "f1277251",
   "metadata": {},
   "source": [
    "### Desenvolva um programa que armazene quatro notas em uma lista e que apresente a média final. Caso a média seja igual ou superior a 7, apresentar a mensagem \"APROVADO\", caso contrário, armazenar a nota da prova final e recalcular a média (nova média = (antiga média + prova final) / 2). Caso a nova média seja igual superior a 5, apresentar a mensagem \"APROVADO\", caso contrário, apresentar a mensagem \"REPROVADO\""
   ]
  },
  {
   "cell_type": "code",
   "execution_count": null,
   "id": "4b8211e3",
   "metadata": {},
   "outputs": [],
   "source": [
    "notas = []\n",
    "print(\"Insira as 4 notas do período\")\n",
    "for i in range(4):\n",
    "    nota = float(input(\"Digite a nota:\"))\n",
    "    notas.append(nota)\n",
    "\n",
    "media = sum(notas) / len(notas)\n",
    "print(\"Media\", media)\n",
    "if media >= 7:\n",
    "    print(\"APROVADO\")\n",
    "else:\n",
    "    nota_prova_final = float(input(\"Nota Prova Final:\"))\n",
    "    media = (media + nota_prova_final) / 2\n",
    "    print(\"Media depois da final\", media)\n",
    "    if media >= 5:\n",
    "        print(\"APROVADO\")\n",
    "    else:\n",
    "        print(\"REPROVADO\")"
   ]
  },
  {
   "cell_type": "markdown",
   "id": "b2c36cf0",
   "metadata": {},
   "source": [
    "### Desenvolva um programa que pergunte para o usuário o nome completo, cpf, endereço e duração do contrato e personalize todo o texto do contrato de acordo com as informações dadas.\n"
   ]
  },
  {
   "cell_type": "code",
   "execution_count": null,
   "id": "288caae9",
   "metadata": {},
   "outputs": [],
   "source": [
    "texto_contrato = \"\"\"\n",
    "CONTRATO DE PRESTAÇÃO DE SERVIÇOS PROFISSIONAIS\n",
    "\n",
    "\t\tPelo presente instrumento particular de Contrato de Prestação de Serviços Contábeis, de um lado NOME_CONTRATANTE inscrita no CPF, sob nº CPF_CONTRATANTE,doravante denominada CONTRATANTE, residente e domiciliado(a)  à RUA_CONTRATANTE, Cidade CIDADE_CONTRATANTE, Estado ESTADO_CONTRATANTE, e o Contabilista Fulano, com escritório à Qualquer Lugar, Cidade Rio de Janeiro Estado RJ , inscrito no CNPJ Nº 22222222000100, doravante CONTRATADO(A), mediante as cláusulas e condições seguintes, tem justo e “Contratado” o que se segue:\n",
    "\n",
    "CLAUSULA PRIMEIRA - A contratante neste ato, contrata os serviços profissionais do contratado(a) nas seguintes àreas:\n",
    "\t\t\n",
    "1. Escrituração Contábil.\n",
    "1.1 - Classificação da contabilidade de acordo com  normas e princípios contábeis vigentes;\n",
    "1.2 - Emissão de Balancetes:\n",
    "1.3 - Elaboração de Balanço anual e Demonstrativo de Resultado.\n",
    "\t\t\n",
    "E por estarem de comum acordo, assinam o presente instrumento em duas vias, de igual teor e forma, na presença das testemunhas abaixo.\n",
    "\n",
    "\n",
    "DIA_DATA/MES_DATA/ANO_DATA.\n",
    "\n",
    "\n",
    "_________________________________                      __________________________\n",
    "    Contratante - NOME_CONTRATANTE                                     Contratado(a)\n",
    "\n",
    "\n",
    "\"\"\""
   ]
  },
  {
   "cell_type": "code",
   "execution_count": null,
   "id": "de90d06a",
   "metadata": {},
   "outputs": [],
   "source": [
    "nome_contratante = input(\"Nome Contratante\")\n",
    "cpf_contratante = input(\"CPF Contratante\")\n",
    "rua_contratante = input(\"Rua e número do endereço do contratante\")\n",
    "cidade_contratante = input(\"Cidade Contratante\")\n",
    "estado_contratante = input(\"Estado Contratante\")\n",
    "data_contrato = input(\"Data no Formato DD/MM/AAAA\")\n",
    "\n",
    "dia_contrato = data_contrato[:2]\n",
    "mes_contrato = data_contrato[3:5]\n",
    "ano_contrato = data_contrato[6:]\n",
    "\n",
    "texto_contrato = texto_contrato.replace(\"NOME_CONTRATANTE\", nome_contratante)\n",
    "texto_contrato = texto_contrato.replace(\"CPF_CONTRATANTE\", cpf_contratante)\n",
    "texto_contrato = texto_contrato.replace(\"RUA_CONTRATANTE\", rua_contratante)\n",
    "texto_contrato = texto_contrato.replace(\"CIDADE_CONTRATANTE\", cidade_contratante)\n",
    "texto_contrato = texto_contrato.replace(\"ESTADO_CONTRATANTE\", estado_contratante)\n",
    "texto_contrato = texto_contrato.replace(\"DIA_DATA\", dia_contrato)\n",
    "texto_contrato = texto_contrato.replace(\"MES_DATA\", mes_contrato)\n",
    "texto_contrato = texto_contrato.replace(\"ANO_DATA\", ano_contrato)\n",
    "\n",
    "print(texto_contrato)\n"
   ]
  },
  {
   "cell_type": "markdown",
   "id": "4ccf5454",
   "metadata": {},
   "source": [
    "### Crie um programa que converta a temperatura de celsius para Faremheit\n",
    "    - Agora adapte o programa para ele funcionar para uma lista de temperaturas\n",
    "    - Agora adapte o programa para ele conseguir fazer a conversão tanto de C para F quanto de F para C de acordo com a escolha do usuário."
   ]
  },
  {
   "cell_type": "code",
   "execution_count": null,
   "id": "58d3c158",
   "metadata": {},
   "outputs": [],
   "source": [
    "# Parte 1\n",
    "\n",
    "def conversor(fahrenheit):\n",
    "    celsius = (fahrenheit - 32) * 5 / 9\n",
    "    return celsius\n",
    "\n",
    "temperatura = float(input(\"Insira a temperatura em ºF\"))\n",
    "temperatura_celsius = conversor(temperatura)\n",
    "print(f\"{temperatura} ºF\")\n",
    "print(\"Temperatura em ºC\", temperatura_celsius)\n"
   ]
  },
  {
   "cell_type": "code",
   "execution_count": null,
   "id": "a1aa22e9",
   "metadata": {},
   "outputs": [],
   "source": [
    "# Parte 2\n",
    "while True:\n",
    "    temperatura = input(\"Insira a temperatura em ºF, deixe em branco para pausar\")\n",
    "    if temperatura == \"\":\n",
    "        break\n",
    "    temperatura = float(temperatura)\n",
    "    temperatura_celsius = conversor(temperatura)\n",
    "    print(f\"Temperatura em ºF: {temperatura} Temperatura em ºC: {temperatura_celsius}\")"
   ]
  },
  {
   "cell_type": "code",
   "execution_count": null,
   "id": "3b47ba3e",
   "metadata": {},
   "outputs": [],
   "source": [
    "# Parte 3\n",
    "def conversor(temperatura, escolha):\n",
    "    if escolha == \"F\":\n",
    "        celsius = (temperatura - 32) * 5 / 9\n",
    "        return celsius\n",
    "    else:\n",
    "        fahrenheit = temperatura * 9 / 5 + 32\n",
    "        return fahrenheit\n",
    "\n",
    "escolha = input(\"Deseja inserir as temperaturas em ºC (digite C) ou ºF (digite F)\")\n",
    "if escolha == \"C\":\n",
    "    medida_final = \"F\"\n",
    "else:\n",
    "    medida_final = \"C\"\n",
    "\n",
    "while True:\n",
    "    temperatura = input(\"Insira a temperatura em ºF, deixe em branco para pausar\")\n",
    "    if temperatura == \"\":\n",
    "        break\n",
    "    temperatura = float(temperatura)\n",
    "    temperatura_convertida = conversor(temperatura, escolha)\n",
    "    print(f\"Temperatura em º{escolha}: {temperatura} Temperatura em º{medida_final}: {temperatura_convertida}\")"
   ]
  },
  {
   "cell_type": "markdown",
   "id": "4a8e971d",
   "metadata": {},
   "source": [
    "### Analisador de Telefone\n",
    "\n",
    "- Crie um programa que receba um telefone e verifique se ele é um telefone real brasileiro. Seu programa deve conseguir tratar espaços em branco, parênteses, existência de um 9º dígito no número ou não, existência de DDD ou não e deve obrigar o usuário a inserir o código do País (+55)\n",
    "\n",
    "Válidos:<br>\n",
    "\"+55 21 9799999999\"<br>\n",
    "\"+55 21 799999999 \"<br>\n",
    "\"+55 (21)79999-9999\"<br>\n",
    "\"+5521799999999\"<br>"
   ]
  },
  {
   "cell_type": "code",
   "execution_count": null,
   "id": "b3ea37e0",
   "metadata": {},
   "outputs": [],
   "source": [
    "telefone = input(\"Insira seu telefone no formato +55XX999999999\")\n",
    "\n",
    "telefone = telefone.replace(\" \", \"\").replace(\"(\", \"\").replace(\")\", \"\").replace(\"-\", \"\")\n",
    "if telefone[:3]!=\"+55\":\n",
    "    print(\"Esse telefone não é brasileiro ou foi inserido no formato errado\")\n",
    "else:\n",
    "    if len(telefone)!=13 and len(telefone)!=14:\n",
    "        print(\"Esse telefone não é brasileiro ou foi inserido no formato errado\")\n",
    "    else:\n",
    "        print(\"Telefone válido:\", telefone)\n"
   ]
  },
  {
   "cell_type": "markdown",
   "id": "6c5e1f72",
   "metadata": {},
   "source": [
    "### Analisador de URL\n",
    "    - Seu programa deve pedir um link/URL para o usuário, como por exemplo: https://www.hashtagtreinamentos.com/blog\n",
    "    - Ele deve analisar essa URL dizendo:\n",
    "        - Domínio: hashtagtreinamentos.com\n",
    "        - Protocolo: HTTPS (tudo que vem antes de começar o endereço da URL, no caso antes do :)\n",
    "        - Caminho: /blog (tudo que vem depois do domínio, a partir da primeira / até antes dos parâmetros de busca)\n",
    "        - Parâmetros de busca: (Tudo que vem depois do ? e são separados entre si por um &. Os links podem ter isso ou não)\n",
    "\n",
    "Exemplos de URL:\n",
    "\n",
    "https://www.hashtagtreinamentos.com/blog<br>\n",
    "https://lp.hashtagtreinamentos.com/inscricao-intensivao-de-python-igfb?origemurl=curso&fonte=portal<br>\n",
    "https://lp.hashtagtreinamentos.com/inscricao-intensivao-de-python-igfb?origemurl=exercicios"
   ]
  },
  {
   "cell_type": "code",
   "execution_count": null,
   "id": "b506b2ad",
   "metadata": {},
   "outputs": [],
   "source": [
    "url_analise = input(\"Insira uma URL\")\n",
    "\n",
    "posicao_doispoints = url_analise.find(\":\")\n",
    "posicao_ponto = url_analise.find(\".\")\n",
    "posicao_barrafimdominio = url_analise.find(\"/\", posicao_ponto)\n",
    "posicao_interrogacao = url_analise.find(\"?\")\n",
    "\n",
    "protocolo = url_analise[:posicao_doispoints]\n",
    "print(\"Protocolo\", protocolo)\n",
    "\n",
    "dominio = url_analise[posicao_ponto+1:posicao_barrafimdominio]\n",
    "print(\"Domínio\", dominio)\n",
    "\n",
    "caminho = url_analise[posicao_barrafimdominio:posicao_interrogacao]\n",
    "print(\"Caminho\", caminho)\n",
    "\n",
    "texto_parametros_url = url_analise[posicao_interrogacao+1:]\n",
    "parametros_url = texto_parametros_url.split(\"&\")\n",
    "print(\"Parâmetros URL\", parametros_url)\n"
   ]
  },
  {
   "cell_type": "markdown",
   "id": "8f89e819",
   "metadata": {},
   "source": [
    "### Crie um programa que dado o e-mail de um usuário, valide se aquele e-mail é válido com as seguintes regras:\n",
    "    - Tem que ter .com ou .gov\n",
    "    - Tem que ter @\n",
    "    - Tem que ter mais de 5 caracteres\n",
    "    - Não pode ter espaço"
   ]
  },
  {
   "cell_type": "code",
   "execution_count": null,
   "id": "b1bcb77c",
   "metadata": {},
   "outputs": [],
   "source": [
    "email = input(\"Insira o e-mail aqui:\")\n",
    "\n",
    "if \".com\" in email or \".gov\" in email:\n",
    "    if \"@\" in email and len(email) > 5 and \" \" not in email:\n",
    "        print(\"Email Válido\")\n",
    "    else:\n",
    "        print(\"Email Inválido\")\n",
    "else:\n",
    "        print(\"Email Inválido\")"
   ]
  },
  {
   "cell_type": "markdown",
   "id": "7236276f",
   "metadata": {},
   "source": [
    "### ToDo List no Terminal\n",
    "\n",
    "Crie um programa para criar uma lista de tarefas para o usuário (mais futuramente no curso, aprenderemos a armazenar essas informações em um banco de dados para essa lista poder ser editada e armazenada)\n",
    "\n",
    "Seu programa deve pedir as tarefas que o usuário tem que fazer em um dia e, a cada inserção de uma nova tarefa, dizer que a tarefa foi adicionada a lista de tarefas. Quando o usuário digitar apenas enter no seu input (sem inserir nenhuma tarefa, seu programa deve printar a quantidade de tarefas para o dia e a lista de tarefas completa)"
   ]
  },
  {
   "cell_type": "code",
   "execution_count": null,
   "id": "9dc04b8b",
   "metadata": {},
   "outputs": [],
   "source": [
    "lista_tarefas = []\n",
    "\n",
    "while True:\n",
    "    tarefa = input(\"Escreva uma tarefa para adicionar a sua ToDo List\")\n",
    "    if tarefa == \"\":\n",
    "        break\n",
    "    else:\n",
    "        lista_tarefas.append(tarefa)\n",
    "        print(f\"Tarefa adicionada com sucesso: {tarefa}\")\n",
    "\n",
    "print(\"Quantidade de tarefas para hoje:\", len(lista_tarefas))\n",
    "texto_tarefas = \"\\n\".join(lista_tarefas)\n",
    "print(\"Tarefas\")\n",
    "print(texto_tarefas)"
   ]
  },
  {
   "cell_type": "markdown",
   "id": "8e3998f9",
   "metadata": {},
   "source": [
    "### Conversor de Moedas\n",
    "\n",
    "- Parte 1: Crie um conversor de moedas que pergunte para o usuário qual moeda ele quer converter e para qual moeda destino ele quer converter. Caso alguma das moedas não estejam na lista de conversão, o usuário deve ser informado que essa conversão não é possível. Sendo possível a conversão, o seu conversor de moedas deve em seguida pedir o valor da moeda de origem que ele quer converter para a moeda de destino, fazer a conversão e exibir para o usuário o valor convertido.\n",
    "- Parte 2: Adapte o seu código (crie uma cópia para manter os 2 códigos prontos) para o usuário não precisar dizer qual a moeda original, mas que permita inserir um valor para fazer a conversão com o indicativo da moeda, ex: R$50, US$20 e o sistema fazer a conversão automaticamente."
   ]
  },
  {
   "cell_type": "code",
   "execution_count": null,
   "id": "d22ae6a5",
   "metadata": {},
   "outputs": [],
   "source": [
    "dic_conversoes = {\n",
    "    \"R$-US$\": 0.194,\n",
    "    \"US$-R$\": 5.15,\n",
    "    \"R$-BTC\":  0.000002857,\n",
    "    \"BTC-R$\": 350000,\n",
    "    \"BTC-US$\": 67961.16,\n",
    "    \"US$-BTC\": 0.000014714\n",
    "}"
   ]
  },
  {
   "cell_type": "code",
   "execution_count": null,
   "id": "eb91ca04",
   "metadata": {},
   "outputs": [],
   "source": [
    "# Parte 1\n",
    "moedas = []\n",
    "for par_moeda in dic_conversoes.keys():\n",
    "    moeda_origem, moeda_destino = par_moeda.split(\"-\")\n",
    "    if moeda_origem not in moedas:\n",
    "        moedas.append(moeda_origem)\n",
    "texto_moedas = \",\".join(moedas)\n",
    "moeda_origem_usuario = input(f\"Qual a moeda de origem para a conversão? ({texto_moedas})\")\n",
    "\n",
    "if moeda_origem_usuario in moedas:\n",
    "    moeda_destino_usuario = input(f\"Qual a moeda destino para a conversão? ({texto_moedas})\")\n",
    "    if moeda_destino_usuario not in moedas:\n",
    "        print(\"Moeda inválida\")\n",
    "    else:\n",
    "        if moeda_destino_usuario == moeda_origem_usuario:\n",
    "            conversao = 1\n",
    "        else:\n",
    "            chave_dic = f\"{moeda_origem_usuario}-{moeda_destino_usuario}\"\n",
    "            conversao = dic_conversoes[chave_dic]\n",
    "        print(f\"Conversão: {moeda_origem_usuario}1 = {moeda_destino_usuario}{conversao}\")\n",
    "else:\n",
    "    print(\"Moeda inválida\")"
   ]
  },
  {
   "cell_type": "code",
   "execution_count": null,
   "id": "3d191d76",
   "metadata": {},
   "outputs": [],
   "source": [
    "# Parte 2\n",
    "moedas = []\n",
    "for par_moeda in dic_conversoes.keys():\n",
    "    moeda_origem, moeda_destino = par_moeda.split(\"-\")\n",
    "    if moeda_origem not in moedas:\n",
    "        moedas.append(moeda_origem)\n",
    "texto_moedas = \",\".join(moedas)\n",
    "\n",
    "valor_original = input(\"Insira o valor a converter\")\n",
    "\n",
    "moeda_origem_usuario = \"\"\n",
    "for moeda in moedas:\n",
    "    if moeda in valor_original:\n",
    "        moeda_origem_usuario = moeda\n",
    "        valor = float(valor_original.replace(moeda, \"\"))\n",
    "\n",
    "if moeda_origem_usuario != \"\":\n",
    "    moeda_destino_usuario = input(f\"Qual a moeda destino para a conversão? ({texto_moedas})\")\n",
    "    if moeda_destino_usuario not in moedas:\n",
    "        print(\"Moeda inválida\")\n",
    "    else:\n",
    "        if moeda_destino_usuario == moeda_origem_usuario:\n",
    "            conversao = 1\n",
    "        else:\n",
    "            chave_dic = f\"{moeda_origem_usuario}-{moeda_destino_usuario}\"\n",
    "            conversao = dic_conversoes[chave_dic]\n",
    "        valor_convertido = valor * conversao\n",
    "        print(f\"Conversão: {moeda_origem_usuario}{valor} = {moeda_destino_usuario}{valor_convertido}\")\n",
    "else:\n",
    "    print(\"Moeda inválida\")"
   ]
  },
  {
   "cell_type": "markdown",
   "id": "ab814e5e",
   "metadata": {},
   "source": [
    "### Você está analisando a conta de energia de um pequeno escritório e precisa saber:\n",
    "1. Qual o valor total da conta de energia em cada mês do ano\n",
    "2. Qual o valor total da conta de energia no ano\n",
    "\n",
    "Considere as listas dadas como os 12 meses do ano, tanto para bandeiras quanto para consumo. O valor da conta é dado por: consumo * multiplicador_bandeira * preco_kwh"
   ]
  },
  {
   "cell_type": "code",
   "execution_count": null,
   "id": "b5a6210f",
   "metadata": {},
   "outputs": [],
   "source": [
    "bandeiras_tarifarias = [\"vermelha\", \"vermelha\", \"amarela\", \"amarela\", \"verde\", \"verde\", \"verde\", \"verde\", \"verde\", \"amarela\", \"amarela\", \"amarela\"]\n",
    "consumo_kwh = [400, 350, 325, 350, 200, 220, 250, 290, 360, 290, 300, 300]\n",
    "preco_kwh = 1.3\n",
    "multiplicador = {\"vermelha\": 2, \"amarela\": 1.3, \"verde\": 1}"
   ]
  },
  {
   "cell_type": "code",
   "execution_count": null,
   "id": "d422ebca",
   "metadata": {},
   "outputs": [],
   "source": [
    "precos_meses = []\n",
    "for i, bandeira in enumerate(bandeiras_tarifarias):\n",
    "    preco = multiplicador[bandeira] * preco_kwh * consumo_kwh[i]\n",
    "    precos_meses.append(preco)\n",
    "\n",
    "print(precos_meses)\n",
    "print(\"Total Ano:\", sum(precos_meses))"
   ]
  },
  {
   "cell_type": "markdown",
   "id": "884c95da",
   "metadata": {},
   "source": [
    "### Você recebeu uma lista de alunos da Arroba Treinamentos e precisa descobrir quantos alunos e quais aluno estão devendo ainda algum pagamento do curso. O curso custa 2.000 reais e os pagamentos dos alunos são representados por uma lista de valores já pagos no dicionário de alunos\n"
   ]
  },
  {
   "cell_type": "code",
   "execution_count": null,
   "id": "306ac0a2",
   "metadata": {},
   "outputs": [],
   "source": [
    "pagamentos_alunos = {\n",
    "    \"André\": [2000],\n",
    "    \"Fulano\": [1000, 1000],\n",
    "    \"Ciclano\": [500, 500],\n",
    "    \"Beltrano\": [100], \n",
    "    \"João\": [100, 100, 100, 100, 100, 100, 100, 100, 100, 100, 100],\n",
    "    \"Amanda\": [200, 300, 250, 250, 500, 400, 100],\n",
    "    \"Lira\": [1000],\n",
    "    \"Alon\": [10]\n",
    "}\n"
   ]
  },
  {
   "cell_type": "code",
   "execution_count": null,
   "id": "a40ae5bd",
   "metadata": {},
   "outputs": [],
   "source": [
    "preco_curso = 2000\n",
    "qtde_alunos_devendo = 0\n",
    "for aluno in pagamentos_alunos:\n",
    "    total_pago = sum(pagamentos_alunos[aluno])\n",
    "    if total_pago < preco_curso:\n",
    "        print(aluno, \"está devendo\", preco_curso - total_pago, \"reais\")\n",
    "        qtde_alunos_devendo += 1\n",
    "\n",
    "print(qtde_alunos_devendo, \"estão devendo algum valor\")"
   ]
  },
  {
   "cell_type": "markdown",
   "id": "42902b4d",
   "metadata": {},
   "source": [
    "### Password Checker\n",
    "- Pessa para o usuário um input com a senha e um input com a confirmação de senha (aprenderemos no módulo de criação de telas com Python a fazer isso em um sistema bonito, mas para esse exercício faremos com inputs isso)\n",
    "- Para validar a senha, verifique que:\n",
    "    - A senha e confirmação são iguais\n",
    "    - A senha possua mais de 8 caracteres\n",
    "    - A senha tenha letras e números"
   ]
  },
  {
   "cell_type": "code",
   "execution_count": null,
   "id": "8d97c54c",
   "metadata": {},
   "outputs": [],
   "source": [
    "senha = input(\"Senha\")\n",
    "confirmacao_senha = input(\"Confirmação de Senha\")\n",
    "\n",
    "if senha != confirmacao_senha:\n",
    "    print(\"Senha e Confirmação são diferentes\")\n",
    "else:\n",
    "    if senha.isnumeric() or senha.isalpha():\n",
    "        print(\"Sua senha precisa ter letras e números\")\n",
    "    else:\n",
    "        if len(senha) < 8:\n",
    "            print(\"Sua senha precisa ter pelo menos 8 caracteres\")\n",
    "        else:\n",
    "            print(\"Senha salva com sucesso\")"
   ]
  },
  {
   "cell_type": "markdown",
   "id": "8770a292",
   "metadata": {},
   "source": [
    "### Você precisa criar a lógica de um sistema de load balance/redirecionamento automático. Seu programa deve receber um input que representa quantas requisições um sistema vai receber. Para cada requisição, seu sistema deve decidir em qual destino atribuir a requisição, destino A, B ou C. A regra de distribuição é: a primeira requisição é atribuída ao destino A, a segunda ao B, a terceira ao C, a quarta ao A, a quinta ao B, a sexta ao C, a sétima ao A, a oitava ao B, a nona ao C… e assim vai até o total de requisições. Ao final do programa, você deve calcular quais requisições foram para cada destino e quantas são. Ex: se o sistema deveria receber 80 requisições, no final seu código tem q dizer: destino A recebeu 27 requisições, destino B recebeu 27 requisições e destino C recebeu 26 requisicoes e a lista de requisições de cada destino: listaA = [1, 4, 7, 10, 13...], listaB = [2, 5, 8, 11, 14, ...], listaC = [3, 6, 9, 12, 15, 18, 21, ...].\n"
   ]
  },
  {
   "cell_type": "code",
   "execution_count": null,
   "id": "eaead8d2",
   "metadata": {},
   "outputs": [],
   "source": [
    "qtde_requisicoes = int(input(\"Quantas requisições você quer testar?\"))\n",
    "\n",
    "listaA = []\n",
    "listaB = []\n",
    "listaC = []\n",
    "\n",
    "for i in range(qtde_requisicoes):\n",
    "    if i % 3 == 0:\n",
    "        listaA.append(i)\n",
    "    elif i % 3 == 1:\n",
    "        listaB.append(i)\n",
    "    else:\n",
    "        listaC.append(i)\n",
    "\n",
    "print(f\"Destino A: {len(listaA)} requisições\")\n",
    "print(f\"Destino B: {len(listaB)} requisições\")\n",
    "print(f\"Destino C: {len(listaC)} requisições\")\n",
    "\n",
    "print(listaA)\n",
    "print(listaB)\n",
    "print(listaC)\n",
    "\n"
   ]
  },
  {
   "cell_type": "markdown",
   "id": "12483a13",
   "metadata": {},
   "source": [
    "### ChatBot de Recomendações de Viagens\n",
    "- Você trabalha em uma agência de viagens e precisa criar um chatbot para os seus clientes. Esse chatbot deve pedir para o usuario escolher um mês de viagem. Em seguida, seu chatbot deve perguntar para qual lugar o usuário deseja viajar. Caso o local escolhido pelo usuário esteja na lista de bons lugares para viajar naquele mês, o seu chatbot deve dizer que é um ótimo lugar para viajar nesse mês. Caso o local não esteja na lista de bons locais daquele mês, seu chatbot deve:\n",
    "    1. Dizer para ele quais lugares são bons para viajar nesse mês\n",
    "    2. Verificar no resto dos meses se o local que o usuário quer viajar está em algum outro mês. Se tiver, seu programa deve dizer para ele qual o melhor mês para viajar para o local desejado pelo cliente."
   ]
  },
  {
   "cell_type": "code",
   "execution_count": null,
   "id": "890b8182",
   "metadata": {},
   "outputs": [],
   "source": [
    "viagens_mensais = {\n",
    "    \"jan\": [\"Tailândia\", \"Brasil\", \"Antártica\", \"África do Sul\", \"Argentina\"],\n",
    "    \"fev\": [\"Tailândia\", \"Brasil\", \"Argentina\", \"Uruguai\", \"África do Sul\"],\n",
    "    \"mar\": [\"Brasil\", \"Marrocos\", \"EUA\", \"Egito\", \"Dubai\"],\n",
    "    \"abr\": [\"Brasil\", \"Marrocos\", \"Egito\", \"Dubai\", \"Equador\"],\n",
    "    \"mai\": [\"Brasil\", \"EUA\", \"Itália\", \"França\", \"Inglaterra\"],\n",
    "    \"jun\": [\"Brasil\", \"Itália\", \"França\", \"Grécia\", \"Turquia\"],\n",
    "    \"jul\": [\"Brasil\", \"Itália\", \"França\", \"Grécia\", \"Turquia\"],\n",
    "    \"ago\": [\"Brasil\", \"Itália\", \"França\", \"Grécia\", \"Turquia\"],\n",
    "    \"set\": [\"Brasil\", \"Croácia\", \"Grécia\", \"México\", \"Alemanha\"],\n",
    "    \"out\": [\"Brasil\", \"Alemanha\", \"Japão\", \"Chile\", \"Indonésia\"],\n",
    "    \"nov\": [\"Brasil\", \"México\", \"Costa Rica\", \"Barbados\", \"Colômbia\"],\n",
    "    \"dez\": [\"Tailândia\", \"México\", \"Costa Rica\", \"Barbados\", \"Colômbia\"]\n",
    "}\n",
    "\n",
    "mes_viagem = input(\"Qual mês deseja viajar? Digite apenas as 3 primeiras letras do mês\")\n",
    "\n",
    "lista_paises = viagens_mensais[mes_viagem]\n",
    "\n",
    "lugar_viagem = input(\"Para qual lugar deseja viajar?\")\n",
    "\n",
    "if lugar_viagem in lista_paises:\n",
    "    print(f\"Excelente momento para viajar para {lugar_viagem}! Vamos marcar sua viagem?\")\n",
    "else:\n",
    "    texto_lugares = \", \".join(lista_paises)\n",
    "    print(f\"Hmm, {mes_viagem} não é um mês muito bom para {lugar_viagem}. Recomendamos em {mes_viagem}: {texto_lugares}\")\n",
    "    meses_alternativos = []\n",
    "    for mes in viagens_mensais:\n",
    "        if lugar_viagem in viagens_mensais[mes]:\n",
    "            meses_alternativos.append(mes)\n",
    "    if len(meses_alternativos) > 0:\n",
    "        texto_meses_alternativos = \", \".join(meses_alternativos)\n",
    "        print(f\"Para viajar para {lugar_viagem} recomendamos viajar em: {texto_meses_alternativos}\")\n"
   ]
  },
  {
   "cell_type": "markdown",
   "id": "62561d71",
   "metadata": {},
   "source": [
    "### Password Manager com dicionário sendo o Banco de Dados\n",
    "\n",
    "- Seu desafio é criar um gerenciador de senhas (usando um dicionário python como banco de dados, mais para frente no curso no modulo de banco de dados você será capaz de armazenar essas senhas em um banco de dados de forma definitiva e mais protegida)\n",
    "    - Seu programa deve perguntar para o usuário se ele quer cadastrar uma senha nova ou pegar uma senha existente. Independente da operação ele deve usar uma senha mestre: \"uh&g7fnsd8\" para aprovar qualquer consulta/edição no sistema. Se o usuário quiser adicionar uma senha, deve pedir qual o nome do sistema de onde essa senha faz parte, qual o login e qual a senha a ser cadastrada. Se for para consultar, seu programa deve exibir os nomes dos sistemas disponíveis e o usuário pode escolher qual senha quer pedir e seu programa deve dar para ela a resposta de login e senha. Se quiser que as suas senhas cadastradas possam ser usadas para consulta, coloque tudo em um loop infinito e dê algum comando para o usuário conseguir finalizar o processo"
   ]
  },
  {
   "cell_type": "code",
   "execution_count": null,
   "id": "55090b15",
   "metadata": {},
   "outputs": [],
   "source": [
    "gerenciador_senhas = {\n",
    "    \"Gmail\": (\"lira@emailfalso.com\", \"minhasenha123\"),\n",
    "    \"Github\": (\"pythonimpressionador\", \"senhadoida\"),\n",
    "    \"Cartão de Crédito\": (\"NumeroFalsodoCartao\", \"123456\"),\n",
    "    \"Portal Hashtag\": (\"usuario@gmail.com\", \"123456\")\n",
    "}\n",
    "\n",
    "senha_banco = input(\"Digite a senha mestre para acessar o banco\")\n",
    "if senha_banco != \"uh&g7fnsd8\":\n",
    "    print(\"Senha incorreta, acesso negado.\")\n",
    "else:\n",
    "    acao = input(\"O que você deseja fazer? Cadastrar (digite 1) ou Consultar uma senha (digite 2). Deixe em branco para finalizar\")\n",
    "    while acao != \"\":\n",
    "        if acao == \"1\":\n",
    "            nome_sistema = input(\"Digite o nome do sistema a ser cadastrado\")\n",
    "            login = input(\"Digite o login\")\n",
    "            senha = input(\"Digite a senha\")\n",
    "            gerenciador_senhas[nome_sistema] = (login, senha)\n",
    "            print(f\"Senha salva com sucesso. {nome_sistema}: {gerenciador_senhas[nome_sistema]}\")\n",
    "        elif acao == \"2\":\n",
    "            nomes_sistemas = list(gerenciador_senhas.keys())\n",
    "            texto_nomes_sistemas = \"\\n\".join(gerenciador_senhas)\n",
    "            print(\"Sistemas disponíveis:\")\n",
    "            print(texto_nomes_sistemas)\n",
    "            sistema = input(\"Escolha o sistema que quer consultar a senha. Digite o nome exatamente como aparece acima.\")\n",
    "            usuario, senha = gerenciador_senhas[sistema]\n",
    "            print(\"Usuário {}\".format(usuario))\n",
    "            print(\"Senha {}\".format(senha))\n",
    "        else:\n",
    "            break\n",
    "        acao = input(\"O que você deseja fazer? Cadastrar (digite 1) ou Consultar uma senha (digite 2). Deixe em branco para finalizar\")\n",
    "        \n"
   ]
  },
  {
   "cell_type": "markdown",
   "id": "5f95c0dc",
   "metadata": {},
   "source": [
    "### Extrator de data em email\n",
    "\n",
    "- Crie um código que consiga extrair a data escrita em um email no formato DIA/MES/ANO. Essa data pode estar com diferentes quantidades de dígitos para cada informação de DIA/MES/ANO. Ex: 01/05/2024 = 1/5/24\n",
    "- Mais para frente no curso vamos aprender regex que facilita esse tipo de extração, por enquanto, para esse exercício pode considerar que apenas 1 data será incluída no email e que não será usado mais a / em outros locais do email"
   ]
  },
  {
   "cell_type": "code",
   "execution_count": null,
   "id": "a7fee4e6",
   "metadata": {},
   "outputs": [],
   "source": [
    "texto_email = \"\"\"Prezados,\n",
    "Segue em anexo contrato para aprovação e assinatura até o dia 10/12/2025\n",
    "Favor se atentar ao prazo de conclusão para evitar o cancelamento do serviço.\n",
    "Att.,\n",
    "Fulano Beltrano\"\"\""
   ]
  },
  {
   "cell_type": "code",
   "execution_count": null,
   "id": "9e2f2188",
   "metadata": {},
   "outputs": [],
   "source": [
    "posicao_barra = texto_email.find(\"/\")\n",
    "posicao_barra2 = texto_email.find(\"/\", posicao_barra+1)\n",
    "dia = texto_email[posicao_barra-2:posicao_barra].strip()\n",
    "mes = texto_email[posicao_barra+1:posicao_barra2]\n",
    "ano = texto_email[posicao_barra2+1:posicao_barra2+5]\n",
    "\n",
    "if \"\\n\" in ano: # esses ifs é para tratar o que pode vir depois do ano, caso o ano tenha apenas 2 dígitos. Pode vir um ponto, pode vir um espaço, pode vir um enter. Independente do caso, só queremos aquilo antes desses separadores\n",
    "    ano = ano.split(\"\\n\")[0]\n",
    "if \".\" in ano:\n",
    "    ano = ano.split(\".\")[0]\n",
    "if \" \" in ano:\n",
    "    ano = ano.split(\" \")[0]\n",
    "\n",
    "print(\"Dia\", dia)\n",
    "print(\"Mês\", mes)\n",
    "print(\"Ano\", ano)"
   ]
  },
  {
   "cell_type": "markdown",
   "id": "f5efe403",
   "metadata": {},
   "source": [
    "### Extrator de contato em email\n",
    "\n",
    "- Crie um código que consiga extrair um endereço de e-mail de um texto.\n",
    "- Mais para frente no curso vamos aprender regex que facilita esse tipo de extração, por enquanto, para esse exercício pode considerar que apenas 1 email será incluída no texto e o @ não será usado em outros locais."
   ]
  },
  {
   "cell_type": "code",
   "execution_count": null,
   "id": "cba0f3f2",
   "metadata": {},
   "outputs": [],
   "source": [
    "# Existem diferentes formas de fazer esse exercício, faremos considerando que o email sempre tem ou espaço ou quebra de linha antes ou depois dele, o que é bem provável\n",
    "linhas = texto_email.split(\"\\n\")\n",
    "for linha in linhas:\n",
    "    if \"@\" in linha:\n",
    "        palavras = linha.split(\" \")\n",
    "        for palavra in palavras:\n",
    "            if \"@\" in palavra:\n",
    "                email = palavra\n",
    "\n",
    "print(email)"
   ]
  },
  {
   "cell_type": "markdown",
   "id": "21c13e08",
   "metadata": {},
   "source": [
    "### Dado um dicionário com a temperatura em várias cidades, máximas e mínimas estimadas e máximas e mínimas reais, veja em quantas cidades a previsão do tempo acertou e em quantas errou.\n",
    "\n",
    "Considere que a previsão erra se a mínima real for menor do que a mínima estimada OU se a máxima real for maior do que a máxima estimada. Se os valores reais estiverem dentro da faixa estimada, mesmo que os valores não sejam iguais, é considerado que a previsão acertou.\n",
    "\n",
    "Ex: <br>\n",
    "Mínima Estimada: 20, Máxima Estimada: 25, Mínima Real: 21, Máxima Real: 25 -> acertou<br>\n",
    "Mínima Estimada: 20, Máxima Estimada: 25, Mínima Real: 19, Máxima Real: 25 -> errou<br>\n",
    "Mínima Estimada: 20, Máxima Estimada: 25, Mínima Real: 23, Máxima Real: 24 -> acertou<br>\n",
    "Mínima Estimada: 20, Máxima Estimada: 25, Mínima Real: 19, Máxima Real: 28 -> errou<br>\n",
    "\n",
    "formato:\n",
    "(minima_estimada, maxima_estimada, minima_real, maxima_real)"
   ]
  },
  {
   "cell_type": "code",
   "execution_count": null,
   "id": "f535185a",
   "metadata": {},
   "outputs": [],
   "source": [
    "dic_temperaturas = {\n",
    "    \"São Paulo\": (15, 23, 16, 22),\n",
    "    \"Rio de Janeiro\": (21, 25, 20, 25),\n",
    "    \"Belo Horizonte\": (19, 22, 19, 22),\n",
    "    \"Brasília\": (23, 25, 19, 21),\n",
    "    \"Porto Alegre\": (13, 19, 14, 18),\n",
    "    \"Natal\": (25, 28, 24, 28),\n",
    "    \"Salvador\": (22, 29, 23, 30),\n",
    "    \"Manaus\": (23, 27, 23, 26),\n",
    "}"
   ]
  },
  {
   "cell_type": "code",
   "execution_count": null,
   "id": "9b8cc583",
   "metadata": {},
   "outputs": [],
   "source": [
    "errou = 0\n",
    "acertou = 0\n",
    "for cidade in dic_temperaturas:\n",
    "    min_estimada, max_estimada, min_real, max_real = dic_temperaturas[cidade]\n",
    "    if min_real < min_estimada or max_real > max_estimada:\n",
    "        errou += 1\n",
    "    else:\n",
    "        acertou += 1\n",
    "print(f\"Errou em {errou} cidades e acertou em {acertou} cidades\")"
   ]
  },
  {
   "cell_type": "markdown",
   "id": "c6188bda",
   "metadata": {},
   "source": [
    "### Você trabalha em uma montadora de veículos com 32 distribuidores e a meta da sua empresa era produzir e entregar 50.000 veículos no ano. Essa meta foi batida, com folga. Seu chefe então se questionou: se a gente tivesse 31 distribuidoras, ainda assim a gente teria batido a meta? E se a gente tivesse 30? E 29?\n",
    "\n",
    "Seu objetivo então é descobrir qual o menor número de distribuidores que teria permitido a sua empresa a ter batido essa meta de 50.000 veiculos produzidos e entregues no ano."
   ]
  },
  {
   "cell_type": "code",
   "execution_count": null,
   "id": "5ad25dc1",
   "metadata": {},
   "outputs": [],
   "source": [
    "entregas_distribuidores = [5000, 4000, 3900, 3900, 3800, 3200, 3000, 3000, 3000, 3000, 2950, 2950, 2900, 2900, 2900, 2900, 2900, 2900, 2900, 2900, 2900, 2900, 2900, 2900, 2900, 2900, 2900, 2900, 2900, 2900, 2900, 2900]\n",
    "\n",
    "soma_entregas = 0\n",
    "meta = 50000\n",
    "\n",
    "i = 0\n",
    "while soma_entregas < meta:\n",
    "    soma_entregas = soma_entregas + entregas_distribuidores[i]\n",
    "    i = i + 1\n",
    "\n",
    "print(i, \"seria o menor número possível de distribuidores que permitira bater a meta de 50.000 veículos\")"
   ]
  },
  {
   "cell_type": "markdown",
   "id": "13c88283",
   "metadata": {},
   "source": [
    "### Um dos princípios mais importantes nas empresas é o princípio 80/20. No geral, 20% das ações que uma empresa faz geram 80% dos resultados. Isso tanto para receita, quanto para custos, etc. Você está analisando uma empresa de bebidas. Tendo isso em mente, queremos descobrir quais as linhas de custos que representam 80% do total gasto da empresa. Para isso, calcule quanto percentualmente cada custo representa do custo total da empresa e crie um ranking decrescente baseado nesse percentual "
   ]
  },
  {
   "cell_type": "code",
   "execution_count": null,
   "id": "c30b7d35",
   "metadata": {},
   "outputs": [],
   "source": [
    "custos = [\n",
    "    (10131.7, \"Custo Mercadorias Vendidas\"),\n",
    "    (2916, \"Logística\"),\n",
    "    (1741, \"Despesas Comerciais\"),\n",
    "    (1305, \"Despesas administrativas\"),\n",
    "    (28, \"Outros Itens\"),\n",
    "    (997, \"Juros e Resultado Financeiro\"),\n",
    "    (14, \"Participações em outros Empreendimentos\"),\n",
    "    (58, \"Impostos\")\n",
    "]"
   ]
  },
  {
   "cell_type": "code",
   "execution_count": null,
   "id": "284aebb3",
   "metadata": {},
   "outputs": [],
   "source": [
    "custos.sort(reverse=True)\n",
    "total = sum(item[0] for item in custos)\n",
    "\n",
    "percentual_acumulado = 0\n",
    "for i in range(len(custos)):\n",
    "    valor, descricao = custos[i]\n",
    "    percentual_acumulado += (valor / total)\n",
    "    custos[i] = (valor, descricao, valor / total, percentual_acumulado)\n",
    "\n",
    "print(custos)"
   ]
  },
  {
   "cell_type": "markdown",
   "id": "cca6b9bb",
   "metadata": {},
   "source": [
    "### Você trabalha em uma empresa que possui várias franquias. Queremos saber quais as franquias que têm maior número de funcionários e quais dessas, juntas, representam 80% dos funcionários da rede toda."
   ]
  },
  {
   "cell_type": "code",
   "execution_count": null,
   "id": "dd7c8556",
   "metadata": {},
   "outputs": [],
   "source": [
    "franquias = [\n",
    "    (25000, \"Loja A\"),\n",
    "    (10000, \"Loja B\"),\n",
    "    (500, \"Loja C\"),\n",
    "    (25000, \"Loja D\"),\n",
    "    (1200, \"Loja E\"),\n",
    "    (400, \"Loja F\"),\n",
    "    (200, \"Loja G\"),\n",
    "    (15, \"Loja H\"),\n",
    "    (200, \"Loja I\"),\n",
    "    (15, \"Loja J\"),\n",
    "    (200, \"Loja K\"),\n",
    "    (15, \"Loja L\"),\n",
    "    (200, \"Loja M\"),\n",
    "    (15, \"Loja N\"),\n",
    "]\n"
   ]
  },
  {
   "cell_type": "code",
   "execution_count": null,
   "id": "0c895e78",
   "metadata": {},
   "outputs": [],
   "source": [
    "franquias.sort(reverse=True)\n",
    "total_funcionarios = sum(item[0] for item in franquias)\n",
    "\n",
    "percentual_acumulado = 0\n",
    "\n",
    "for i in range(len(franquias)):\n",
    "    qtde_funcionarios, descricao = franquias[i]\n",
    "    percentual_acumulado += qtde_funcionarios / total_funcionarios\n",
    "    franquias[i] = (qtde_funcionarios, descricao, qtde_funcionarios / total_funcionarios, percentual_acumulado)\n",
    "\n",
    "print(franquias)\n"
   ]
  },
  {
   "cell_type": "markdown",
   "id": "e5752e79",
   "metadata": {},
   "source": [
    "### Desafio (esse exercício é mais difícil mesmo)\n",
    "### Com o PIB de 2022 e de 2021 de cada estado brasileiro, descubra: qual o maior PIB, menor PIB, média do PIB, PIB total em cada ano e qual estado mais cresceu o PIB percentualmente e em valores absolutos de um ano pro outro"
   ]
  },
  {
   "cell_type": "code",
   "execution_count": null,
   "id": "2f9cefe3",
   "metadata": {},
   "outputs": [],
   "source": [
    "pib_2022 = {\n",
    "    \"Acre\": 21374,\n",
    "    \"Alagoas\": 76266,\n",
    "    \"Amapá\": 20100,\n",
    "    \"Amazonas\": 131531,\n",
    "    \"Bahia\": 352618,\n",
    "    \"Ceará\": 194885,\n",
    "    \"Distrito Federal\": 286944,\n",
    "    \"Espírito Santo\": 186337,\n",
    "    \"Goiás\": 269628,\n",
    "    \"Maranhão\": 124981,\n",
    "    \"Mato Grosso\": 233390,\n",
    "    \"Mato Grosso do Sul\": 142204,\n",
    "    \"Minas Gerais\": 857593,\n",
    "    \"Paraná\": 549973,\n",
    "    \"Paraíba\": 77470,\n",
    "    \"Pará\": 262905,\n",
    "    \"Pernambuco\": 220814,\n",
    "    \"Piauí\": 64028,\n",
    "    \"Rio de Janeiro\": 949301,\n",
    "    \"Rio Grande do Norte\": 80181,\n",
    "    \"Rio Grande do Sul\": 581284,\n",
    "    \"Rondônia\": 58170,\n",
    "    \"Roraima\": 18203,\n",
    "    \"Santa Catarina\": 428571,\n",
    "    \"Sergipe\": 51861,\n",
    "    \"São Paulo\": 2719751,\n",
    "    \"Tocantins\": 51781\n",
    "}\n",
    "\n",
    "pib_2021 = {\n",
    "    \"Acre\": 16476,\n",
    "    \"Alagoas\": 63202,\n",
    "    \"Amapá\": 18469,\n",
    "    \"Amazonas\": 116019,\n",
    "    \"Bahia\": 305321,\n",
    "    \"Ceará\": 166915,\n",
    "    \"Distrito Federal\": 265847,\n",
    "    \"Espírito Santo\": 138446,\n",
    "    \"Goiás\": 224126,\n",
    "    \"Maranhão\": 106916,\n",
    "    \"Mato Grosso\": 178650,\n",
    "    \"Mato Grosso do Sul\": 122628,\n",
    "    \"Minas Gerais\": 682786, \n",
    "    \"Paraná\": 487931,\n",
    "    \"Paraíba\": 70292,\n",
    "    \"Pará\": 215936,\n",
    "    \"Pernambuco\": 193307,\n",
    "    \"Piauí\": 56391,\n",
    "    \"Rio de Janeiro\": 753824,\n",
    "    \"Rio Grande do Norte\": 71577,\n",
    "    \"Rio Grande do Sul\": 470942, \n",
    "    \"Rondônia\": 51599,\n",
    "    \"Roraima\": 16024,\n",
    "    \"Santa Catarina\": 349275,\n",
    "    \"Sergipe\": 45410,\n",
    "    \"São Paulo\": 2377639,\n",
    "    \"Tocantins\": 43650\n",
    "    }"
   ]
  },
  {
   "cell_type": "code",
   "execution_count": null,
   "id": "31895f44",
   "metadata": {},
   "outputs": [],
   "source": [
    "valores_pib21 = list(pib_2021.values())\n",
    "estados_pib21 = list(pib_2021.keys())\n",
    "valores_pib22 = list(pib_2022.values())\n",
    "estados_pib22 = list(pib_2022.keys())\n",
    "\n",
    "\n",
    "total_pib_2022 = sum(valores_pib22)\n",
    "total_pib_2021 = sum(valores_pib21)\n",
    "media_pib_2022 = total_pib_2022 / len(pib_2022)\n",
    "media_pib_2021 = total_pib_2021 / len(pib_2021)\n",
    "print(\"2022\", \"Total PIB:\", total_pib_2022, \"Média PIB:\", media_pib_2022)\n",
    "print(\"2021\", \"Total PIB:\", total_pib_2021, \"Média PIB:\", media_pib_2021)\n",
    "\n",
    "\n",
    "maior_pib2021 = max(valores_pib21)\n",
    "menor_pib2021 = min(valores_pib21)\n",
    "maior_pib2022 = max(valores_pib22)\n",
    "menor_pib2022 = min(valores_pib22)\n",
    "\n",
    "indice_maior_pib21 = valores_pib21.index(maior_pib2021)\n",
    "estado_maiorpib2021 = estados_pib21[indice_maior_pib21]\n",
    "print(\"Maior PIB de 2021:\", maior_pib2021, \"Estado:\", estado_maiorpib2021)\n",
    "\n",
    "indice_maior_pib22 = valores_pib22.index(maior_pib2022)\n",
    "estado_maiorpib2022 = estados_pib22[indice_maior_pib22]\n",
    "print(\"Maior PIB de 2022:\", maior_pib2022, \"Estado:\", estado_maiorpib2022)\n",
    "\n",
    "indice_menor_pib21 = valores_pib21.index(menor_pib2021)\n",
    "estado_menorpib2021 = estados_pib21[indice_menor_pib21]\n",
    "print(\"menor PIB de 2021:\", menor_pib2021, \"Estado:\", estado_menorpib2021)\n",
    "\n",
    "indice_menor_pib22 = valores_pib22.index(menor_pib2022)\n",
    "estado_menorpib2022 = estados_pib22[indice_menor_pib22]\n",
    "print(\"menor PIB de 2022:\", menor_pib2022, \"Estado:\", estado_menorpib2022)\n",
    "\n",
    "maior_alta_pib_perc = 0\n",
    "estado_maioralta_pib_perc = \"\"\n",
    "maior_alta_pib_abs = 0\n",
    "estado_maioralta_pib_abs = \"\"\n",
    "for estado in pib_2021:\n",
    "    pib21_estado = pib_2021[estado]\n",
    "    pib22_estado = pib_2022[estado]\n",
    "    alta_abs = pib22_estado - pib21_estado\n",
    "    percentual_alta = alta_abs / pib21_estado\n",
    "\n",
    "    if alta_abs > maior_alta_pib_abs:\n",
    "        maior_alta_pib_abs = alta_abs\n",
    "        estado_maioralta_pib_abs = estado\n",
    "    \n",
    "    if percentual_alta > maior_alta_pib_perc:\n",
    "        maior_alta_pib_perc = percentual_alta\n",
    "        estado_maioralta_pib_perc = estado\n",
    "\n",
    "\n",
    "print(\"Maior alta pib Percentual:\", maior_alta_pib_perc, \"Estado:\", estado_maioralta_pib_perc)\n",
    "print(\"Maior alta pib absoluto:\", maior_alta_pib_abs, \"Estado:\", estado_maioralta_pib_abs)"
   ]
  },
  {
   "cell_type": "markdown",
   "id": "f6a29e85",
   "metadata": {},
   "source": [
    "### Desafio (esse exercício é mais difícil mesmo)\n",
    "### Temos o preço de diferentes ações no início de 2024 e em maio de 2024, queremos:\n",
    "    - Ação que mais subiu, ação que mais caiu no período (percentualmente)\n",
    "    - Se tivessemos 1.000 reais investido em um portfólio com as ações da carteira A vs um portfólio com as ações B, qual teria rendido mais? - considere que os 1.000 reais são investidos de forma proporcional entre cada ativo da carteira"
   ]
  },
  {
   "cell_type": "code",
   "execution_count": null,
   "id": "82643ba9",
   "metadata": {},
   "outputs": [],
   "source": [
    "acoes = {\n",
    "    \"PETR4\": [37.78, 37.01],\n",
    "    \"VALE3\": [77.05, 65.30],\n",
    "    \"ITUB4\": [33.52, 33.74],\n",
    "    \"ABEV3\": [13.71, 11.81],\n",
    "    \"WEGE3\": [36.57, 38.35],\n",
    "    \"BBAS3\": [27.38, 29.41],\n",
    "    \"JBSS3\": [25.17, 29.96],\n",
    "    \"SBSP3\": [73.63, 75.07]\n",
    "}\n",
    "\n",
    "carteiraA = [\"PETR4\", \"VALE3\", \"JBSS3\", \"SBSP3\"]\n",
    "carteiraB = [\"WEGE3\", \"BBAS3\", \"ITUB4\", \"ABEV3\"]"
   ]
  },
  {
   "cell_type": "code",
   "execution_count": null,
   "id": "4e2ea277",
   "metadata": {},
   "outputs": [],
   "source": [
    "acao_mais_subiu = \"\"\n",
    "percentual_mais_subiu = 0\n",
    "acao_mais_caiu = \"\"\n",
    "percentual_mais_caiu = 0\n",
    "\n",
    "for acao in acoes:\n",
    "    precos = acoes[acao]\n",
    "    preco_inicio = precos[0]\n",
    "    preco_fim = precos[1]\n",
    "    variacao_percentual = preco_fim / preco_inicio - 1\n",
    "    if variacao_percentual > percentual_mais_subiu:\n",
    "        acao_mais_subiu = acao\n",
    "        percentual_mais_subiu = variacao_percentual\n",
    "    elif variacao_percentual < percentual_mais_caiu:\n",
    "        acao_mais_caiu = acao\n",
    "        percentual_mais_caiu = variacao_percentual\n",
    "\n",
    "print(acao_mais_subiu, f\"Subiu {percentual_mais_subiu}\")\n",
    "print(acao_mais_caiu, f\"Caiu {percentual_mais_caiu}\")"
   ]
  },
  {
   "cell_type": "code",
   "execution_count": null,
   "id": "8fea3d67",
   "metadata": {},
   "outputs": [],
   "source": [
    "variacoes = {}\n",
    "\n",
    "for acao in acoes:\n",
    "    precos = acoes[acao]\n",
    "    preco_inicio = precos[0]\n",
    "    preco_fim = precos[1]\n",
    "    variacao_percentual = preco_fim / preco_inicio - 1\n",
    "    variacoes[acao] = variacao_percentual\n",
    "\n",
    "print(variacoes)\n",
    "\n",
    "valor_investido = 1000 / len(carteiraA)\n",
    "valor_total_carteiraA = 0\n",
    "valor_total_carteiraB = 0\n",
    "for acao in carteiraA:\n",
    "    valor_final_acao = variacoes[acao] * valor_investido + valor_investido\n",
    "    valor_total_carteiraA += valor_final_acao\n",
    "for acao in carteiraB:\n",
    "    valor_final_acao = variacoes[acao] * valor_investido + valor_investido\n",
    "    valor_total_carteiraB += valor_final_acao\n",
    "\n",
    "print(valor_total_carteiraA)\n",
    "print(valor_total_carteiraB)"
   ]
  }
 ],
 "metadata": {
  "kernelspec": {
   "display_name": "Python 3 (ipykernel)",
   "language": "python",
   "name": "python3"
  },
  "language_info": {
   "codemirror_mode": {
    "name": "ipython",
    "version": 3
   },
   "file_extension": ".py",
   "mimetype": "text/x-python",
   "name": "python",
   "nbconvert_exporter": "python",
   "pygments_lexer": "ipython3",
   "version": "3.10.11"
  }
 },
 "nbformat": 4,
 "nbformat_minor": 5
}
