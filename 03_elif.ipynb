{
 "cells": [
  {
   "cell_type": "code",
   "execution_count": null,
   "metadata": {},
   "outputs": [],
   "source": [
    "for i in range(0, 12, 1):\n",
    "\n",
    "    if i < 5:\n",
    "        if i == 4:\n",
    "            pass\n",
    "        else:\n",
    "            print(f'{i} é menor que 5')\n",
    "    elif i == 5:\n",
    "        print(f'{i} é igual a 5')\n",
    "    elif i < 10:\n",
    "        print(f'{i} é maior que 5 e menor que 10')\n",
    "    elif i == 10:\n",
    "        print(f'{i} é igual a 10')\n",
    "    else:\n",
    "        print(f'{i} é maior que 10')\n",
    "# É possível alinhar quantos elif forem necessários, um abaixo do outro.\n",
    "# Os posteriores só serão executados caso nenhuma condição anterior for executada\n",
    "\n",
    "# comparadores:\n",
    "# ==  !=  >  <  >=  <=  in  not\n",
    "# o pass ignora alguma condição\n",
    "\n",
    "# para comparar funções simultâneamente, usa-se or e and (escritos por extenso)\n",
    "# obedece as mesmas regras de matemática - para ordem\n",
    "# exemplo:\n",
    "var1 = 8\n",
    "if var1 > 5 and var1 < 10:\n",
    "    print(f'{var1} é menor que 54 e maior que 10')"
   ]
  }
 ],
 "metadata": {
  "kernelspec": {
   "display_name": "Python 3",
   "language": "python",
   "name": "python3"
  },
  "language_info": {
   "codemirror_mode": {
    "name": "ipython",
    "version": 3
   },
   "file_extension": ".py",
   "mimetype": "text/x-python",
   "name": "python",
   "nbconvert_exporter": "python",
   "pygments_lexer": "ipython3",
   "version": "3.13.0"
  }
 },
 "nbformat": 4,
 "nbformat_minor": 2
}
