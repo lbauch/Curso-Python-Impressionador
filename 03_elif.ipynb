{
 "cells": [
  {
   "cell_type": "code",
   "execution_count": null,
   "metadata": {},
   "outputs": [],
   "source": [
    "for i in range(0, 12, 1):\n",
    "\n",
    "    if i < 5:\n",
    "        if i == 4:\n",
    "            pass\n",
    "        else:\n",
    "            print(f'{i} é menor que 5')\n",
    "    elif i == 5:\n",
    "        print(f'{i} é igual a 5')\n",
    "    elif i < 10:\n",
    "        print(f'{i} é maior que 5 e menor que 10')\n",
    "    elif i == 10:\n",
    "        print(f'{i} é igual a 10')\n",
    "    else:\n",
    "        print(f'{i} é maior que 10')\n",
    "# É possível alinhar quantos elif forem necessários, um abaixo do outro.\n",
    "# Os posteriores só serão executados caso nenhuma condição anterior for executada\n",
    "\n",
    "# comparadores:\n",
    "# ==  !=  >  <  >=  <=  in  not\n",
    "# o pass ignora alguma condição\n",
    "\n",
    "# para comparar funções simultâneamente, usa-se or e and (escritos por extenso)\n",
    "# obedece as mesmas regras de matemática - para ordem\n",
    "# exemplo:\n",
    "var1 = 8\n",
    "if var1 > 5 and var1 < 10:\n",
    "    print(f'{var1} é menor que 54 e maior que 10')"
   ]
  },
  {
   "cell_type": "markdown",
   "metadata": {},
   "source": [
    "# Comparações Contraintuitivas\n",
    "\n",
    "Existem algumas comparações no Python que não são tão intuitivas quando vemos pela primeira vez, mas que são muito usadas, principalmente por programadores mais experientes.\n",
    "\n",
    "É bom sabermos alguns exemplos e buscar sempre entender o que aquela comparação está buscando verificar.\n",
    "\n",
    "### Exemplo 1:\n",
    "\n",
    "Digamos que você está construindo um sistema de controle de vendas e precisa de algumas informações para fazer o cálculo do resultado da loja no fim de um mês."
   ]
  },
  {
   "cell_type": "code",
   "execution_count": null,
   "metadata": {},
   "outputs": [],
   "source": [
    "faturamento = input('Qual foi o faturamento da loja nesse mês?')\n",
    "custo = input('Qual foi o custo da loja nesse mês?')\n",
    "\n",
    "\n",
    "if custo == '':\n",
    "    custo = 0\n",
    "if faturamento == '':\n",
    "    faturamento = 0\n",
    "\n",
    "lucro = int(faturamento) - int(custo)\n",
    "\n",
    "# outra forma: if faturamento:...\n",
    "if not (faturamento and custo):\n",
    "    print(\"O lucro da loja foi de {} reais\".format(lucro))"
   ]
  },
  {
   "cell_type": "markdown",
   "metadata": {},
   "source": [
    "## Resumo\n",
    "\n",
    "Ao deixar o valor do custo ou faturamento sem preencher, ele não considera 0.\n",
    "Algumas comparações contraintuitivas muito usadas:\n",
    "\n",
    "If 0:\n",
    "\n",
    "If '':\n",
    "\n",
    "Temos outras também, mas que são usadas para verificar listas vazias, dicionários vazios, objetos vazios e assim vai. Quando chegarmos nesses módulos vamos relembrar esse conceito, mas o importante é saber dessa possibilidade e entender seu uso."
   ]
  }
 ],
 "metadata": {
  "kernelspec": {
   "display_name": "Python 3",
   "language": "python",
   "name": "python3"
  },
  "language_info": {
   "codemirror_mode": {
    "name": "ipython",
    "version": 3
   },
   "file_extension": ".py",
   "mimetype": "text/x-python",
   "name": "python",
   "nbconvert_exporter": "python",
   "pygments_lexer": "ipython3",
   "version": "3.13.0"
  }
 },
 "nbformat": 4,
 "nbformat_minor": 2
}
