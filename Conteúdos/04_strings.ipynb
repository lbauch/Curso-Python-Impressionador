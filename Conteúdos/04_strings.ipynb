{
 "cells": [
  {
   "cell_type": "markdown",
   "metadata": {},
   "source": [
    "Strings em Python são consideradas como lista/cadeia de caracteres\n",
    "Iniciando em 0."
   ]
  },
  {
   "cell_type": "code",
   "execution_count": null,
   "metadata": {},
   "outputs": [],
   "source": [
    "email = 'lucasb@gmail'\n",
    "print(len(email))\n",
    "print(email[3])\n",
    "print(email[-1])\n",
    "print(email[-9])\n",
    "\n",
    "# para pegar um pedaço e texto:\n",
    "print(email[:1])\n",
    "# imprime todos os caracteres antes do índice 1.\n",
    "print(email[:-3])\n",
    "print(email[5:])\n",
    "# imprime somente a partir do índice 5\n",
    "print(email[5:8])\n",
    "print('Tamanho do email:' + str(len(email)))\n",
    "# Necessário executar a conversão."
   ]
  },
  {
   "cell_type": "markdown",
   "metadata": {},
   "source": [
    "# Format - Aula de Consulta\n",
    "\n",
    "### Como usar o format para criar formatações personalizadas em prints e textos."
   ]
  },
  {
   "cell_type": "raw",
   "metadata": {},
   "source": [
    ":<\t\tAlinha o texto à esquerda (se tiver espaço na tela para isso)\n",
    ":>\t\tAlinha o texto à direita (se tiver espaço na tela para isso)\n",
    ":^\t\tAlinha o texto ao centro (se tiver espaço na tela para isso)\n",
    ":+\t\tColoca o sinal sempre na frente do número (independente se é positivo ou negativo)\n",
    ":,\t\tColoca a vírgula como separador de milhar\n",
    ":_\t\tColoca o _ como separador de milhar\n",
    ":e\t\tFormato Científico\n",
    ":f\t\tNúmero com quantidade fixa de casas decimais\n",
    ":x\t\tFormato HEX minúscula (para cores)\n",
    ":X\t\tFormato HEX maiúscula (para cores)\n",
    ":%\t\tFormato Percentual"
   ]
  },
  {
   "cell_type": "markdown",
   "metadata": {},
   "source": [
    "- Exemplo de Alinhamento"
   ]
  },
  {
   "cell_type": "code",
   "execution_count": null,
   "metadata": {},
   "outputs": [],
   "source": [
    "email = 'teste@gmail.com'\n",
    "print('Meu e-mail não é {:<30}, show?'.format(email))\n",
    "print('Meu e-mail não é {:>30}, show?'.format(email))\n",
    "print('Meu e-mail não é {:^30}, show?'.format(email))"
   ]
  },
  {
   "cell_type": "markdown",
   "metadata": {},
   "source": [
    "- Exemplo de Edição de Sinal"
   ]
  },
  {
   "cell_type": "code",
   "execution_count": null,
   "metadata": {},
   "outputs": [],
   "source": [
    "custo = 500\n",
    "faturamento = 270\n",
    "lucro = faturamento - custo\n",
    "print('Faturamento foi {:+} e lucro foi {:+}'.format(faturamento, lucro))"
   ]
  },
  {
   "cell_type": "markdown",
   "metadata": {},
   "source": [
    "- Exemplo de Separador de Milhar"
   ]
  },
  {
   "cell_type": "code",
   "execution_count": null,
   "metadata": {},
   "outputs": [],
   "source": [
    "custo = 5000\n",
    "faturamento = 2700\n",
    "lucro = faturamento - custo\n",
    "print('Faturamento foi {:+,} e lucro foi {:+,}'.format(faturamento, lucro))"
   ]
  },
  {
   "cell_type": "markdown",
   "metadata": {},
   "source": [
    "- Formato com casas Decimais fixas"
   ]
  },
  {
   "cell_type": "code",
   "execution_count": null,
   "metadata": {},
   "outputs": [],
   "source": [
    "custo = 500\n",
    "faturamento = 270\n",
    "lucro = faturamento - custo\n",
    "print('Faturamento foi {:.2f} e lucro foi {:2f}'.format(faturamento, lucro))"
   ]
  },
  {
   "cell_type": "markdown",
   "metadata": {},
   "source": [
    "- Formato Percentual"
   ]
  },
  {
   "cell_type": "code",
   "execution_count": null,
   "metadata": {},
   "outputs": [],
   "source": [
    "custo = 500\n",
    "faturamento = 1300\n",
    "lucro = faturamento - custo\n",
    "margem = lucro / faturamento\n",
    "print('Margem de lucro foi de {:.2%}'.format(margem))"
   ]
  },
  {
   "cell_type": "markdown",
   "metadata": {},
   "source": [
    "- Formato Moeda -> Combinação de Formatos\n",
    "\n",
    "Existem módulos/bibliotecas que vão facilitar isso, caso a gente queira, mas vamos ver como usar módulos mais a frente do curso. Por enquanto, se você precisar, pode fazer substituições em string"
   ]
  },
  {
   "cell_type": "code",
   "execution_count": null,
   "metadata": {},
   "outputs": [],
   "source": [
    "custo = 5000\n",
    "faturamento = 27000\n",
    "lucro = faturamento - custo\n",
    "print('Faturamento foi R${:,.2f} e lucro foi R${:,.2f}'.format(faturamento, lucro))\n",
    "\n",
    "#transformando no formato brasileiro\n",
    "lucro_texto = 'R${:_.2f}'.format(lucro)\n",
    "print(lucro_texto.replace('.', ',').replace('_', '.'))"
   ]
  },
  {
   "cell_type": "markdown",
   "metadata": {},
   "source": [
    "- Função round() para arredondar números, caso seja necessário"
   ]
  },
  {
   "cell_type": "code",
   "execution_count": null,
   "metadata": {},
   "outputs": [],
   "source": [
    "imposto = 0.15758\n",
    "preco = 100\n",
    "valor_imposto = round(preco * imposto, 1)\n",
    "print('Imposto sobre o preço é de {}'.format(valor_imposto))"
   ]
  },
  {
   "cell_type": "markdown",
   "metadata": {},
   "source": [
    "### Forma Básica"
   ]
  },
  {
   "cell_type": "code",
   "execution_count": null,
   "metadata": {},
   "outputs": [],
   "source": [
    "precos = \"Jan: 25, Fev: 27, Mar: 29\"\n",
    "preco_janeiro = precos[5:7]\n",
    "print(preco_janeiro)\n",
    "\n",
    "preco_marco = precos[-2:]\n",
    "print(preco_marco)\n",
    "\n",
    "# precos também pode ser dado por precos[:]"
   ]
  },
  {
   "cell_type": "markdown",
   "metadata": {},
   "source": [
    "### Posição Inicial e Final"
   ]
  },
  {
   "cell_type": "code",
   "execution_count": null,
   "metadata": {},
   "outputs": [],
   "source": [
    "preco_fev = precos[14:16]\n",
    "print(preco_fev)\n",
    "\n",
    "preco_fev2 = precos[-11:-9]\n",
    "print(preco_fev2)"
   ]
  },
  {
   "cell_type": "markdown",
   "metadata": {},
   "source": [
    "### Posição Inicial e Final com Step"
   ]
  },
  {
   "cell_type": "code",
   "execution_count": null,
   "metadata": {},
   "outputs": [],
   "source": [
    "codigo = \"1.2.3.4,5,1,2.3.4,7.9\"\n",
    "num_codigos = codigo[-1::-1]\n",
    "print(num_codigos)"
   ]
  },
  {
   "cell_type": "code",
   "execution_count": null,
   "metadata": {},
   "outputs": [],
   "source": [
    "# função sep - define o separador ao utilizar a função\n",
    "# sep deve ser o último parâmetro\n",
    "print(1, 2, 3, sep = ';')"
   ]
  },
  {
   "cell_type": "markdown",
   "metadata": {},
   "source": [
    "# \"Fórmulas\" de Texto - Métodos de String\n",
    "\n",
    "## Estrutura:\n",
    "\n",
    "- Normalmente usamos a estrutura texto.método() para fazer as modificações que queremos\n",
    "- Alguns métodos pedem \"argumentos\", que são informações que temos que passar para a fórmula (método) para ela funcionar. Esses argumentos são passados dentro do parênteses\n",
    "\n",
    "## Como usar:\n",
    "\n",
    "Não decore os métodos, os que você for mais usando com o tempo você vai decorar o que precisar.\n",
    "\n",
    "Mas a dica é: use essa lista para consulta e busque entender como os métodos funcionam e suas aplicações, para poder consultar e usar quando precisar."
   ]
  },
  {
   "cell_type": "markdown",
   "metadata": {},
   "source": [
    "- capitalize() -> Coloca a 1ª letra Maiúscula"
   ]
  },
  {
   "cell_type": "raw",
   "metadata": {},
   "source": [
    "    Uso: \n",
    "        texto = 'lira'\n",
    "        print(texto.capitalize())\n",
    "    Resultado: \n",
    "        'Lira'"
   ]
  },
  {
   "cell_type": "markdown",
   "metadata": {},
   "source": [
    "- casefold() -> Transforma todas as letras em minúsculas (existe lower() mas o casefold é melhor normalmente)"
   ]
  },
  {
   "cell_type": "raw",
   "metadata": {},
   "source": [
    "    Uso: \n",
    "        texto = 'Lira'\n",
    "        print(texto.casefold())\n",
    "    Resultado: \n",
    "        'lira'"
   ]
  },
  {
   "cell_type": "markdown",
   "metadata": {},
   "source": [
    "- count()\t-> Quantidade de vezes que um valor aparece na string"
   ]
  },
  {
   "cell_type": "raw",
   "metadata": {},
   "source": [
    "    Uso:\n",
    "        texto = 'lira@yahoo.com.br'\n",
    "        print(texto.count('.'))\n",
    "    Resultado:\n",
    "        2"
   ]
  },
  {
   "cell_type": "markdown",
   "metadata": {},
   "source": [
    "- endswith() -> Verifica se o texto termina com um valor específico e dá como resposta True ou False"
   ]
  },
  {
   "cell_type": "raw",
   "metadata": {},
   "source": [
    "    Uso:\n",
    "        texto = 'lira@gmail.com'\n",
    "        print(texto.endswith('gmail.com'))\n",
    "    Resultado:\n",
    "        True"
   ]
  },
  {
   "cell_type": "markdown",
   "metadata": {},
   "source": [
    "- find() -> Procura um texto dentro de outro texto e dá como resposta a posição do texto encontrado"
   ]
  },
  {
   "cell_type": "raw",
   "metadata": {},
   "source": [
    "    Uso:\n",
    "        texto = 'lira@gmail.com'\n",
    "        print(texto.find('@'))\n",
    "    Resultado:\n",
    "        4\n",
    "    Obs: lembrando como funciona a posição nas strings, então o @ está na posição 4\n",
    "    l i r a @ g m a i l  .  c  o  m\n",
    "    0 1 2 3 4 5 6 7 8 9 10 11 12 13"
   ]
  },
  {
   "cell_type": "markdown",
   "metadata": {},
   "source": [
    "- format() -> Formata uma string de acordo com os valores passados. Já usamos bastante ao longo do programa."
   ]
  },
  {
   "cell_type": "raw",
   "metadata": {},
   "source": [
    "    Uso:\n",
    "        faturamento = 1000\n",
    "        print('O faturamento da loja foi de {} reais'.format(faturamento))\n",
    "    Resultado:\n",
    "        'O faturamento da loja foi de 1000 reais'"
   ]
  },
  {
   "cell_type": "markdown",
   "metadata": {},
   "source": [
    "- isalnum() -> Verifica se um texto é todo feito com caracteres alfanuméricos (letras e números) -> letras com acento ou ç são considerados letras para essa função."
   ]
  },
  {
   "cell_type": "raw",
   "metadata": {},
   "source": [
    "    Uso:\n",
    "        texto = 'João123'\n",
    "        print(texto.isalnum())\n",
    "    Resultado:\n",
    "        True\n",
    "    Obs: se o texto fosse 'Jo~ao' ou então 'Joao#' o resultado seria False "
   ]
  },
  {
   "cell_type": "markdown",
   "metadata": {},
   "source": [
    "- isalpha() -> Verifica se um texto é todo feito de letras."
   ]
  },
  {
   "cell_type": "raw",
   "metadata": {},
   "source": [
    "    Uso:\n",
    "        texto = 'João'\n",
    "        print(texto.isalpha())\n",
    "    Resultado:\n",
    "        True\n",
    "    Obs: nesse caso se o texto fosse 'Joao123' o resultado seria False, porque 123 não são letras."
   ]
  },
  {
   "cell_type": "markdown",
   "metadata": {},
   "source": [
    "- isnumeric()\t-> Verifica se um texto é todo feito por números."
   ]
  },
  {
   "cell_type": "raw",
   "metadata": {},
   "source": [
    "    Uso:\n",
    "        texto = '123'\n",
    "        print(texto.isnumeric())\n",
    "    Resultado:\n",
    "        True\n",
    "    Obs: existem os métodos isdigit() e isdecimal() que tem variações pontuais em caracteres especiais tipo textos com frações e potências, mas para 99% dos casos eles não vão ser necessários."
   ]
  },
  {
   "cell_type": "markdown",
   "metadata": {},
   "source": [
    "- replace() -> Substitui um texto por um outro texto em uma string."
   ]
  },
  {
   "cell_type": "raw",
   "metadata": {},
   "source": [
    "    Uso:\n",
    "        texto = '1000.00'\n",
    "        print(texto.replace('.', ','))\n",
    "    Resultado\n",
    "        '1000,00'\n",
    "    Obs: o replace precisa de 2 argumentos para funcionar. O 1º é o texto que você quer trocar. O 2º é o texto que você quer colocar no lugar daquele texto que você está tirando."
   ]
  },
  {
   "cell_type": "markdown",
   "metadata": {},
   "source": [
    "- split()\t-> Separa uma string de acordo com um delimitador em vários textos diferentes."
   ]
  },
  {
   "cell_type": "raw",
   "metadata": {},
   "source": [
    "    Uso:\n",
    "        texto = 'lira@gmail.com'\n",
    "        print(texto.split('@'))\n",
    "    Resultado:\n",
    "        ['lira', 'gmail.com']\n"
   ]
  },
  {
   "cell_type": "markdown",
   "metadata": {},
   "source": [
    "- splitlines() -> separa um texto em vários textos de acordo com os \"enters\" do texto"
   ]
  },
  {
   "cell_type": "raw",
   "metadata": {},
   "source": [
    "    Uso:\n",
    "        texto = '''Olá, bom dia\n",
    "        Venho por meio desse e-mail lhe informar o faturamento da loja no dia de hoje.\n",
    "        Faturamento = R$2.500,00\n",
    "        '''\n",
    "        print(texto.splitlines())\n",
    "    Resultado:\n",
    "        ['Olá, bom dia', 'Venho por meio desse e-mail lhe informar o faturamento da loja no dia de hoje.', 'Faturamento = R$2.500,00']"
   ]
  },
  {
   "cell_type": "markdown",
   "metadata": {},
   "source": [
    "- startswith() -> Verifica se a string começa com determinado texto"
   ]
  },
  {
   "cell_type": "raw",
   "metadata": {},
   "source": [
    "    Uso:\n",
    "        texto = 'BEB123453'\n",
    "        print(texto.startswith('BEB'))\n",
    "    Resultado:\n",
    "        True"
   ]
  },
  {
   "cell_type": "markdown",
   "metadata": {},
   "source": [
    "- strip()\t-> Retira caracteres indesejados dos textos. Por padrão, retira espaços \"extras\" no início e no final"
   ]
  },
  {
   "cell_type": "raw",
   "metadata": {},
   "source": [
    "    Uso:\n",
    "        texto = ' BEB123453 '\n",
    "        print(texto.strip())\n",
    "    Resultado:\n",
    "        'BEB123453'"
   ]
  },
  {
   "cell_type": "markdown",
   "metadata": {},
   "source": [
    "- title() -> Coloca a 1ª letra de cada palavra em maiúscula"
   ]
  },
  {
   "cell_type": "raw",
   "metadata": {},
   "source": [
    "    Uso:\n",
    "        texto = 'joão paulo lira'\n",
    "        print(texto.title())\n",
    "    Resultado:\n",
    "        'João Paulo Lira'"
   ]
  },
  {
   "cell_type": "markdown",
   "metadata": {},
   "source": [
    "- upper()\t-> Coloca o texto todo em letra maiúscula"
   ]
  },
  {
   "cell_type": "raw",
   "metadata": {},
   "source": [
    "    Uso:\n",
    "        texto = 'beb12343'\n",
    "        print(texto.upper())\n",
    "    Resultado:\n",
    "        'BEB12343'"
   ]
  },
  {
   "cell_type": "markdown",
   "metadata": {},
   "source": [
    "## Exercitando"
   ]
  },
  {
   "cell_type": "code",
   "execution_count": null,
   "metadata": {},
   "outputs": [],
   "source": [
    "texto = '''Olá, bom dia\n",
    "        Venho por meio desse e-mail lhe informar o faturamento da loja no dia de hoje.\n",
    "        Faturamento = R$2.500,00\n",
    "        '''"
   ]
  }
 ],
 "metadata": {
  "kernelspec": {
   "display_name": "Python 3",
   "language": "python",
   "name": "python3"
  },
  "language_info": {
   "codemirror_mode": {
    "name": "ipython",
    "version": 3
   },
   "file_extension": ".py",
   "mimetype": "text/x-python",
   "name": "python",
   "nbconvert_exporter": "python",
   "pygments_lexer": "ipython3",
   "version": "3.12.7"
  }
 },
 "nbformat": 4,
 "nbformat_minor": 4
}
