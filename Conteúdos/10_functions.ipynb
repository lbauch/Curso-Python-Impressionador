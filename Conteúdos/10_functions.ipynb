{
 "cells": [
  {
   "cell_type": "markdown",
   "metadata": {},
   "source": [
    "# Function Python\n",
    "\n",
    "### O que é?\n",
    "\n",
    "As functions são blocos de código que servem 1 único propósito, fazem uma ação específica.\n",
    "\n",
    "### Estrutura Básica"
   ]
  },
  {
   "cell_type": "markdown",
   "metadata": {},
   "source": [
    "## Obs Importante: a função deve estar SEMPRE antes de ser usada.\n",
    "\n",
    "- Normalmente, nos nossos códigos, fazemos as definições de todas as funções antes e depois construimos o resto do código.\n",
    "- É comum dar '2 enters' após a definição da função para deixar o código mais organizado\n"
   ]
  },
  {
   "cell_type": "raw",
   "metadata": {},
   "source": [
    "def nome_funcao():\n",
    "    faça alguma coisa\n",
    "    faça outra coisa\n",
    "    return valor_final"
   ]
  },
  {
   "cell_type": "markdown",
   "metadata": {},
   "source": [
    "- Exemplo: vamos criar uma função de cadastro de um Produto. Essa função deve garantir que o produto cadastrado está em letra minúscula."
   ]
  },
  {
   "cell_type": "code",
   "execution_count": null,
   "metadata": {},
   "outputs": [],
   "source": [
    "def cadastrar_produto():\n",
    "    produto = input('Digite o nome do produto que deseja cadastrar')\n",
    "    produto = produto.casefold()\n",
    "    print('Produto {} cadastrado com sucesso'.format(produto))\n",
    "    \n"
   ]
  },
  {
   "cell_type": "code",
   "execution_count": null,
   "metadata": {},
   "outputs": [],
   "source": [
    "for i in range(3):\n",
    "    cadastrar_produto()"
   ]
  },
  {
   "cell_type": "markdown",
   "metadata": {},
   "source": [
    "# Retornar um valor na Function Python\n",
    "\n",
    "### Estrutura Básica"
   ]
  },
  {
   "cell_type": "raw",
   "metadata": {},
   "source": [
    "def nome_funcao():\n",
    "    return valor_final"
   ]
  },
  {
   "cell_type": "markdown",
   "metadata": {},
   "source": [
    "- Exemplo: vamos criar uma função de cadastro de um Produto. Essa função deve garantir que o produto cadastrado está em letra minúscula."
   ]
  },
  {
   "cell_type": "code",
   "execution_count": null,
   "metadata": {},
   "outputs": [],
   "source": [
    "def cadastrar_produto():\n",
    "    produto = input('Digite o nome do produto que deseja cadastrar')\n",
    "    produto = produto.casefold()\n",
    "    produto = produto.strip()\n",
    "    return produto\n"
   ]
  },
  {
   "cell_type": "code",
   "execution_count": null,
   "metadata": {},
   "outputs": [],
   "source": [
    "produto = cadastrar_produto()\n",
    "\n",
    "print(produto)"
   ]
  },
  {
   "cell_type": "markdown",
   "metadata": {},
   "source": [
    "# Argumentos/Parâmetros da Função\n",
    "\n",
    "### Estrutura:"
   ]
  },
  {
   "cell_type": "raw",
   "metadata": {},
   "source": [
    "def minha_funcao(parametro1, parametro2, parametro3):\n",
    "    return parametro1 + parametro2 + parametro3"
   ]
  },
  {
   "cell_type": "markdown",
   "metadata": {},
   "source": [
    "- Exemplo: nosso famoso print"
   ]
  },
  {
   "cell_type": "code",
   "execution_count": null,
   "metadata": {},
   "outputs": [],
   "source": [
    "vendas = 50\n",
    "print('Produto', 'Iphone', 'Vendas', vendas)"
   ]
  },
  {
   "cell_type": "markdown",
   "metadata": {},
   "source": [
    "- Só para mostrar o funcionamento, vamos criar uma função de soma"
   ]
  },
  {
   "cell_type": "code",
   "execution_count": null,
   "metadata": {},
   "outputs": [],
   "source": [
    "def minha_soma(num1, num2, num3):\n",
    "    return num1 + num2 + num3\n",
    "\n",
    "\n",
    "soma = minha_soma(10, 20, 0)\n",
    "print(soma)"
   ]
  },
  {
   "cell_type": "markdown",
   "metadata": {},
   "source": [
    "- Vamos criar uma function com parâmetro\n",
    "\n",
    "Digamos que estamos criando um programa para categorizar os produtos de uma revendedora de bebidas.\n",
    "\n",
    "Cada produto tem um código. O tipo de produto é dado pelas 3 primeiras letras do código.\n",
    "\n",
    "Ex:<br>\n",
    "Vinho -> BEB12302<br>\n",
    "Cerveja -> BEB12043<br>\n",
    "Vodka -> BEB34501<br>\n",
    "\n",
    "Guaraná -> BSA11104<br>\n",
    "Coca -> BSA54301<br>\n",
    "Sprite -> BSA34012<br>\n",
    "Água -> BSA09871<br>\n",
    "\n",
    "Repare que bebidas não alcóolicas começam com BSA e bebidas alcoolicas começam com BEB.\n",
    "\n",
    "Crie um programa que analise uma lista de produtos e envie instruções para a equipe de estoque dizendo quais produtos devem ser enviados para a área de bebidas alcóolicas."
   ]
  },
  {
   "cell_type": "code",
   "execution_count": null,
   "metadata": {},
   "outputs": [],
   "source": [
    "def alcoolico(bebida):\n",
    "    # bebida = bebida.upper()\n",
    "    if 'BEB' in bebida.upper():\n",
    "        return True\n",
    "    else:\n",
    "        return False\n",
    "    \n",
    "    \n",
    "\n",
    "produtos = ['beb46275','TFA23962','TFA64715','TFA69555','TFA56743','BSA45510',\\\n",
    "            'TFA44968','CAR75448','CAR23596','CAR13490','BEB21365','BEB31623',\\\n",
    "            'BSA62419','BEB73344','TFA20079','BEB80694','BSA11769','BEB19495',\\\n",
    "            'TFA14792','TFA78043','BSA33484','BEB97471','BEB62362','TFA27311',\\\n",
    "            'TFA17715','BEB85146','BEB48898','BEB79496','CAR38417','TFA19947',\\\n",
    "            'TFA58799','CAR94811','BSA59251','BEB15385','BEB24213','BEB56262',\\\n",
    "            'BSA96915','CAR53454','BEB75073']\n",
    "\n",
    "#percorrer toda a minha lista de produtos\n",
    "#pra cada produto, verificar se ele é bebida alcoolica\n",
    "#se for bebida alcoolica, exibir a mensagem Enviar....\n",
    "\n",
    "for produto in produtos:\n",
    "    if alcoolico(produto):\n",
    "        print('Enviar {} para setor de bebidas alcóolicas'.format(produto))"
   ]
  },
  {
   "cell_type": "markdown",
   "metadata": {},
   "source": [
    "# Mais de 1 argumento e formas de passar argumento para uma função\n",
    "\n",
    "### Estrutura:\n",
    "\n",
    "- 2 formas de passar o argumento:\n",
    "    1. Em ordem (positional argument)\n",
    "    2. Com o nome do argumento (keyword argument)"
   ]
  },
  {
   "cell_type": "markdown",
   "metadata": {},
   "source": [
    "- Vamos mudar a função que fizemos na aula passada para conseguir categorizar qualquer tipo de bebida de acordo com o \"rótulo\" passado para a nsosa function. Basicamente nossa function agora tem que verificar se o produto é da categoria passada ou não."
   ]
  },
  {
   "cell_type": "code",
   "execution_count": null,
   "metadata": {},
   "outputs": [],
   "source": [
    "def categoria_produto(bebida, cod_categoria):\n",
    "    bebida = bebida.upper()\n",
    "    if cod_categoria in bebida:\n",
    "        return True\n",
    "    else:\n",
    "        return False\n",
    "\n",
    "\n",
    "produtos = ['CAR46275','TFA23962','TFA64715','TFA69555','TFA56743','BSA45510','TFA44968','CAR75448','CAR23596','CAR13490','BEB21365','BEB31623','BSA62419','BEB73344','TFA20079','BEB80694','BSA11769','BEB19495','TFA14792','TFA78043','BSA33484','BEB97471','BEB62362','TFA27311','TFA17715','BEB85146','BEB48898','BEB79496','CAR38417','TFA19947','TFA58799','CAR94811','BSA59251','BEB15385','BEB24213','BEB56262','BSA96915','CAR53454','BEB75073']\n",
    "\n",
    "# Ao utilizar, temos 2 formas de atribuição:\n",
    "# Forma 1: Atribuindo a ordem específica de atribuição, definindo os nomes corretamente\n",
    "# Forma 2: Passando os parâmetros que serão atribuídos na ordem de entrada\n",
    "for produto in produtos:\n",
    "    if categoria_produto(bebida = produto, cod_categoria = 'BEB'):\n",
    "        print('Enviar {} para setor de bebidas alcóolicas'.format(produto))\n",
    "    elif categoria_produto(produto, 'BSA'):\n",
    "        print('Enviar {} para setor de bebidas não alcóolicas'.format(produto))\n",
    "        \n"
   ]
  },
  {
   "cell_type": "code",
   "execution_count": null,
   "metadata": {},
   "outputs": [],
   "source": [
    "qtde_produtos = len(produtos)\n",
    "print('Quantidade total de produtos:', qtde_produtos, 'texto2',  'texto3', sep = '\\n')"
   ]
  },
  {
   "cell_type": "markdown",
   "metadata": {},
   "source": [
    "# Exemplos de parâmetros\n",
    "\n",
    "\n",
    "- upper() -> não tem parâmetros \n",
    "- sort() -> apenas parâmetros keyword\n",
    "- extend(lista) -> 1 parâmetro obrigatório\n",
    "- nossa função eh_da_categoria(bebida, cod_categoria) -> 2 parâmetros de posição obrigatórios\n"
   ]
  },
  {
   "cell_type": "markdown",
   "metadata": {},
   "source": [
    "# Valores Padrões para os argumentos\n",
    "\n",
    "### Estrutura\n",
    "\n",
    "- Nesse caso, você não é obrigado a passar o valor para usar a função, pode usar o valor padrão."
   ]
  },
  {
   "cell_type": "raw",
   "metadata": {},
   "source": [
    "def minha_funcao(argumento = valor_padrao):\n",
    "    ...\n",
    "    return ..."
   ]
  },
  {
   "cell_type": "markdown",
   "metadata": {},
   "source": [
    "- Como vimos, o sort() para listas tem um argumento padrão. O reverse = False é padrão, então a ordem é crescente. Caso o usuário queira fazer em ordem decrescente, o reverse deve ser alterado para True"
   ]
  },
  {
   "cell_type": "code",
   "execution_count": null,
   "metadata": {},
   "outputs": [],
   "source": [
    "produtos = ['apple tv', 'mac', 'iphone x', 'iPad', 'apple watch', 'mac book', 'airpods']\n",
    "\n",
    "produtos.sort()\n",
    "print(produtos)\n",
    "\n",
    "produtos.sort(reverse = True)\n",
    "print(produtos)"
   ]
  },
  {
   "cell_type": "markdown",
   "metadata": {},
   "source": [
    "- Vamos criar uma função que padronize códigos de produtos. O default será padronizar os códigos para letras minúsculas (dado por 'm'), mas se o usuário quiser pode padronizar para maiúscula, dado por ('M')."
   ]
  },
  {
   "cell_type": "code",
   "execution_count": null,
   "metadata": {},
   "outputs": [],
   "source": [
    "def padronizar_codigos(lista_codigos, padrao='m'):\n",
    "    for i, item in enumerate(lista_codigos):\n",
    "        item = item.replace('  ', ' ')\n",
    "        item = item.strip()\n",
    "        if padrao == 'm':\n",
    "            item = item.casefold()\n",
    "        elif padrao == 'M':\n",
    "            item = item.upper()\n",
    "        lista_codigos[i] = item\n",
    "    return lista_codigos\n",
    "\n",
    "\n",
    "cod_produtos = [' ABC12 ', 'abc34', 'AbC37']\n",
    "print(padronizar_codigos(cod_produtos))"
   ]
  },
  {
   "cell_type": "markdown",
   "metadata": {},
   "source": [
    "# Mais sobre o return\n",
    "\n",
    "### Pontos importantes:\n",
    "\n",
    "- Podemos usar no return praticamente qualquer tipo de objeto: (número, string, lista, tupla, dicionário, outros objetos, etc.)\n",
    "- O return, se for executado, encerra a função, mesmo que dentro dela haja um loop."
   ]
  },
  {
   "cell_type": "code",
   "execution_count": null,
   "metadata": {},
   "outputs": [],
   "source": [
    "#retornar um número\n",
    "def minha_soma(num1, num2, num3):\n",
    "    return num1 + num2 + num3\n",
    "\n",
    "#retornar um texto\n",
    "def padronizar_texto(texto):\n",
    "    texto = texto.casefold()\n",
    "    texto = texto.replace(\"  \", \" \")\n",
    "    texto = texto.strip()\n",
    "    return texto\n",
    "\n",
    "#retornar um boolean\n",
    "def bateu_meta(vendas, meta):\n",
    "    if vendas >= meta:\n",
    "        return True\n",
    "    else:\n",
    "        return False\n",
    "    \n",
    "#retornar uma lista, tupla ou dicionario\n",
    "def filtrar_lista_texto(lista, pedaco_texto):\n",
    "    lista_filtrada = []\n",
    "    for item in lista:\n",
    "        if pedaco_texto in item:\n",
    "            lista_filtrada.append(item)\n",
    "            # return lista_filtrada - caso quisesse parar no primeiro encontrado\n",
    "    return lista_filtrada"
   ]
  },
  {
   "cell_type": "code",
   "execution_count": null,
   "metadata": {},
   "outputs": [],
   "source": [
    "lista_textos = ['lira@gmail.com', 'zezinho@hotmail.com', 'joao@gmail.com', 'alon@gmail.com']\n",
    "\n",
    "lista = filtrar_lista_texto(lista_textos, 'gmail')\n",
    "print(lista)"
   ]
  }
 ],
 "metadata": {
  "kernelspec": {
   "display_name": "Python 3",
   "language": "python",
   "name": "python3"
  },
  "language_info": {
   "codemirror_mode": {
    "name": "ipython",
    "version": 3
   },
   "file_extension": ".py",
   "mimetype": "text/x-python",
   "name": "python",
   "nbconvert_exporter": "python",
   "pygments_lexer": "ipython3",
   "version": "3.13.0"
  }
 },
 "nbformat": 4,
 "nbformat_minor": 4
}
