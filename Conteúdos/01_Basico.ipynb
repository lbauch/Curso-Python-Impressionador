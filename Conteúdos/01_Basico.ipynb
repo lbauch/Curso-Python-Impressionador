{
 "cells": [
  {
   "cell_type": "code",
   "execution_count": null,
   "metadata": {},
   "outputs": [],
   "source": [
    "# PRINT COM STRINGS\n",
    "\n",
    "print('Meu nome é ' + 'Lucas')\n",
    "print('Meu nome é Lucas' in 'Lucas')\n",
    "print('Lucas' in 'Meu nome é Lucas')\n",
    "print('lucas' in 'Meu nome é Lucas')\n",
    "print(1 + 2)\n",
    "print('1' + '2')\n",
    "teste = \"abc\"\n",
    "print(f'o teste é {teste}')\n",
    "\n",
    "# No Jupyter, é sempre necessário recarregar as célualas anteriores"
   ]
  },
  {
   "cell_type": "code",
   "execution_count": null,
   "metadata": {},
   "outputs": [],
   "source": [
    "# INPUT\n",
    "nome = input('Qual seu nome?')\n",
    "\n",
    "# Utilizando o Jupyter, pode acontecer de não rodar adequadamente o código.\n",
    "# Para corrigir, só é necessário reiniciar o kernel\n",
    "\n",
    "# Ao criar um componente, é possível definí-lo como markdown ou código.\n",
    "# No markdown, a quantidade de # À frente define o tamanho do texto."
   ]
  },
  {
   "cell_type": "code",
   "execution_count": null,
   "metadata": {},
   "outputs": [],
   "source": [
    "# Alterações incrementais\n",
    "var1 = 10\n",
    "var1 = var1 + 5\n",
    "print(var1)\n",
    "var1 += 6\n",
    "print(var1)"
   ]
  }
 ],
 "metadata": {
  "kernelspec": {
   "display_name": "Python 3",
   "language": "python",
   "name": "python3"
  },
  "language_info": {
   "codemirror_mode": {
    "name": "ipython",
    "version": 3
   },
   "file_extension": ".py",
   "mimetype": "text/x-python",
   "name": "python",
   "nbconvert_exporter": "python",
   "pygments_lexer": "ipython3",
   "version": "3.13.0"
  }
 },
 "nbformat": 4,
 "nbformat_minor": 2
}
