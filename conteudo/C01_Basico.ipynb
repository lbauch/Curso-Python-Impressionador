{
 "cells": [
  {
   "cell_type": "code",
   "execution_count": null,
   "metadata": {},
   "outputs": [],
   "source": [
    "# PRINT COM STRINGS\n",
    "\n",
    "print('Meu nome é ' + 'Lucas')\n",
    "print('Meu nome é Lucas' in 'Lucas')\n",
    "print('Lucas' in 'Meu nome é Lucas')\n",
    "print('lucas' in 'Meu nome é Lucas')\n",
    "print(1 + 2)\n",
    "print('1' + '2')\n",
    "teste = \"abc\"\n",
    "print(f'o teste é {teste}')\n",
    "\n",
    "# No Jupyter, é sempre necessário recarregar as célualas anteriores"
   ]
  },
  {
   "cell_type": "code",
   "execution_count": null,
   "metadata": {},
   "outputs": [],
   "source": [
    "# INPUT\n",
    "nome = input('Qual seu nome?')\n",
    "\n",
    "# Utilizando o Jupyter, pode acontecer de não rodar adequadamente o código.\n",
    "# Para corrigir, só é necessário reiniciar o kernel\n",
    "\n",
    "# Ao criar um componente, é possível definí-lo como markdown ou código.\n",
    "# No markdown, a quantidade de # À frente define o tamanho do texto."
   ]
  },
  {
   "cell_type": "code",
   "execution_count": null,
   "metadata": {},
   "outputs": [],
   "source": [
    "# Alterações incrementais\n",
    "var1 = 10\n",
    "var1 = var1 + 5\n",
    "print(var1)\n",
    "var1 += 6\n",
    "print(var1)"
   ]
  },
  {
   "cell_type": "code",
   "execution_count": null,
   "metadata": {},
   "outputs": [],
   "source": [
    "\n",
    "# Docstring e Annotations\n",
    "\n",
    "#Estrutura - São ferramentas \"apenas\" para organização:\n",
    "\n",
    "# Quando criamos uma função, normalmente não seremos as únicas pessoas a usarem essa função e também pode ser que a gente precise usar essa mesma função semanas, meses ou até anos depois da sua criação.\n",
    "\n",
    "# Por isso é importante usarmos DocStrings e Annotations\n",
    "\n",
    "# - Docstring -> diz o que a função faz, quais valores ela tem como argumento e o que significa cada valor\n",
    "# - Annotation -> diz o que devem ser os argumentos e o que a função retorna\n",
    "\n",
    "# Em muitas empresas, o time de tecnologia vai ter um padrão que você deve seguir para isso, mas caso não tenha, vamos te mostrar um padrão bom a ser utilizado.\n",
    "\n",
    "# Docstring:\n",
    "'''\n",
    "O que a função faz\n",
    "\n",
    "Parameters:\n",
    "    arg1 (int): o que é o argumento 1\n",
    "    arg2 (str): o que é o argumento 2\n",
    "    ...\n",
    "\n",
    "Returns:\n",
    "    texto (str): o que a função retorna como resposta\n",
    "'''\n"
   ]
  }
 ],
 "metadata": {
  "kernelspec": {
   "display_name": "Python 3",
   "language": "python",
   "name": "python3"
  },
  "language_info": {
   "codemirror_mode": {
    "name": "ipython",
    "version": 3
   },
   "file_extension": ".py",
   "mimetype": "text/x-python",
   "name": "python",
   "nbconvert_exporter": "python",
   "pygments_lexer": "ipython3",
   "version": "3.13.0"
  }
 },
 "nbformat": 4,
 "nbformat_minor": 2
}
