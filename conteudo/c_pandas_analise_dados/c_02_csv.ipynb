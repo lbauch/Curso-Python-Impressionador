{
 "cells": [
  {
   "cell_type": "markdown",
   "metadata": {},
   "source": [
    "# pandas e csv\n",
    "\n",
    "## Resumo\n",
    "\n",
    "Quase sempre quando formos \"ler\" um arquivo csv, vamos usar o pandas. É prático e bem eficiente.\n",
    "\n",
    "## Funcionamento"
   ]
  },
  {
   "cell_type": "raw",
   "metadata": {},
   "source": [
    "Forma mais básica: (muitas vezes não usaremos a forma mais básica)\n",
    "dataframe = pd.read_csv(arquivo_com_extensao)"
   ]
  },
  {
   "cell_type": "markdown",
   "metadata": {},
   "source": [
    "- Vamos ler um arquivo real, com a Base de Dados de Vendas da Empresa \"Contoso\""
   ]
  },
  {
   "cell_type": "code",
   "execution_count": null,
   "metadata": {},
   "outputs": [
    {
     "name": "stdout",
     "output_type": "stream",
     "text": [
      "        Numero da Venda Data da Venda Data do Envio  ID Canal  ID Loja  \\\n",
      "0                     1    01/01/2017    02/01/2017         1       86   \n",
      "1                     2    01/01/2017    06/01/2017         5      308   \n",
      "2                     3    01/01/2017    01/01/2017         0      294   \n",
      "3                     4    01/01/2017    01/01/2017         0      251   \n",
      "4                     5    01/01/2017    07/01/2017         6       94   \n",
      "...                 ...           ...           ...       ...      ...   \n",
      "980637           980638    31/12/2017    31/12/2017         0      194   \n",
      "980638           980639    31/12/2017    06/01/2018         6       32   \n",
      "980639           980640    31/12/2017    03/01/2018         3      210   \n",
      "980640           980641    31/12/2017    31/12/2017         0       53   \n",
      "980641           980642    31/12/2017    31/12/2017         0      309   \n",
      "\n",
      "        ID Produto  ID Promocao  ID Cliente  Quantidade Vendida  \\\n",
      "0              981            2        6825                   9   \n",
      "1             1586            2       18469                   9   \n",
      "2             1444            5       19730                  13   \n",
      "3             1468            5       29326                   6   \n",
      "4             1106            2       22617                   4   \n",
      "...            ...          ...         ...                 ...   \n",
      "980637        2490            4       10353                 120   \n",
      "980638        2488            4       31750                 120   \n",
      "980639        2511           10       12003                  80   \n",
      "980640         436            4       25550                  39   \n",
      "980641        2510           10       28707                  80   \n",
      "\n",
      "        Quantidade Devolvida  \n",
      "0                          1  \n",
      "1                          1  \n",
      "2                          1  \n",
      "3                          1  \n",
      "4                          1  \n",
      "...                      ...  \n",
      "980637                     0  \n",
      "980638                     0  \n",
      "980639                     0  \n",
      "980640                     0  \n",
      "980641                     0  \n",
      "\n",
      "[980642 rows x 10 columns]\n"
     ]
    }
   ],
   "source": [
    "import pandas as pd\n",
    "\n",
    "# sep define qual o separador padrão do leitor do csv\n",
    "vendas_df = pd.read_csv(r'../../auxiliares/Contoso - Vendas - 2017.csv', sep=';')\n",
    "\n",
    "print(vendas_df)"
   ]
  },
  {
   "cell_type": "code",
   "execution_count": null,
   "metadata": {},
   "outputs": [],
   "source": []
  }
 ],
 "metadata": {
  "kernelspec": {
   "display_name": "Python 3",
   "language": "python",
   "name": "python3"
  },
  "language_info": {
   "codemirror_mode": {
    "name": "ipython",
    "version": 3
   },
   "file_extension": ".py",
   "mimetype": "text/x-python",
   "name": "python",
   "nbconvert_exporter": "python",
   "pygments_lexer": "ipython3",
   "version": "3.13.0"
  }
 },
 "nbformat": 4,
 "nbformat_minor": 4
}
